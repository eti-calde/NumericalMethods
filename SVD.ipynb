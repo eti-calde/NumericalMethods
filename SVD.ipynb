{
 "cells": [
  {
   "cell_type": "markdown",
   "id": "cbad08d8",
   "metadata": {},
   "source": [
    "# Idea 1: Número de Condición Deseado\n",
    "\n",
    "La idea es hacer un generador de matrices aleatorias, pero que tienen un número de condición deseado"
   ]
  },
  {
   "cell_type": "code",
   "execution_count": 1,
   "id": "2526e273",
   "metadata": {},
   "outputs": [
    {
     "data": {
      "text/plain": [
       "((347391, 3), (694762, 3))"
      ]
     },
     "execution_count": 1,
     "metadata": {},
     "output_type": "execute_result"
    }
   ],
   "source": [
    "import numpy as np\n",
    "import trimesh as tr\n",
    "\n",
    "# Carga la malla\n",
    "mesh = tr.load(\"Linux.stl\")   # admite ascii/binario\n",
    "\n",
    "# Obtén vértices y caras como arreglos NumPy\n",
    "V = mesh.vertices                  # (N, 3) float\n",
    "F = mesh.faces                     # (M, 3) int (índices en V)\n",
    "\n",
    "V.shape, F.shape\n"
   ]
  },
  {
   "cell_type": "code",
   "execution_count": null,
   "id": "acafe5c3",
   "metadata": {},
   "outputs": [],
   "source": [
    "import plotly.graph_objects as go\n",
    "\n",
    "i, j, k = F.T\n",
    "fig = go.Figure(data=[go.Mesh3d(\n",
    "    x=V[:,0], y=V[:,1], z=V[:,2],\n",
    "    i=i, j=j, k=k,\n",
    "    opacity=0.9  # no especificamos colores\n",
    ")])\n",
    "fig.update_layout(scene_aspectmode='data', title=\"Malla STL\")\n",
    "fig.show()\n"
   ]
  },
  {
   "cell_type": "markdown",
   "id": "89f548dc",
   "metadata": {},
   "source": [
    "# Idea 2:\n",
    "\n",
    "Tenemos 2 objetos en 3D que pueden ser representados como una nube de puntos, donde el segundo objeto el el primero, pero luego de aplicarle una rotación y una traslación y el objetivo es encontrar la rotación y traslación exactas para alinear los objetvos"
   ]
  },
  {
   "cell_type": "code",
   "execution_count": null,
   "id": "1384e790",
   "metadata": {},
   "outputs": [],
   "source": []
  },
  {
   "cell_type": "code",
   "execution_count": null,
   "id": "8baaa7a7",
   "metadata": {},
   "outputs": [],
   "source": []
  }
 ],
 "metadata": {
  "kernelspec": {
   "display_name": "global-venv",
   "language": "python",
   "name": "python3"
  },
  "language_info": {
   "codemirror_mode": {
    "name": "ipython",
    "version": 3
   },
   "file_extension": ".py",
   "mimetype": "text/x-python",
   "name": "python",
   "nbconvert_exporter": "python",
   "pygments_lexer": "ipython3",
   "version": "3.13.7"
  }
 },
 "nbformat": 4,
 "nbformat_minor": 5
}
