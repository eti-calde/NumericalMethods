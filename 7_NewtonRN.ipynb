{
 "cells": [
  {
   "cell_type": "markdown",
   "id": "1d8624ae",
   "metadata": {},
   "source": [
    "# **Ayudantía 7 - Newton $\\mathbb{R}^n$**\n",
    "## Etienne Rojas\n",
    "\n",
    "Ante cualquier duda o posible corrección, por favor mandar un correo a `etienne.rojas@sansano.usm.cl` \n",
    "\n",
    "---"
   ]
  },
  {
   "cell_type": "markdown",
   "id": "e252ddaf",
   "metadata": {},
   "source": [
    "# **Contexto**\n",
    "Los ayudantes de laboratorio sostenian un caluroso debate sobre cuánto tiempo se debe revolver el café, porque si ya esta totalmente disuelto, seguir revolviendo es una perdida de tiempo. \n",
    "\n",
    "Nuestro objetivo es modelar como se disuelve una distribución inicial uniforme de café soluble en una taza cuadrada. Al revolver el café utilizando un mini batidor, se generan corrientes internas modeladas por un campo de velocidad con la forma de un remolino.\n",
    "\n",
    "La concentración de café en la taza sigue la ecuación de **advección-difusión bidimensional**:\n",
    "\n",
    "\n",
    "$$\n",
    "\\frac{\\partial c}{\\partial t} = D \\Delta c - u(x,y) \\frac{\\partial c}{\\partial x} - v(x,y) \\frac{\\partial c}{\\partial y}\n",
    "$$\n",
    "\n",
    "\n",
    "- $c(x,y,t)$ es la **concentración del café**, es decir, la cantidad de café en un punto $(x,y)$ en el instante $t$.\n",
    "- $u(x,y)$ y $v(x,y)$ son los **campos de velocidades**, describiendo cómo se mueve el fluido en cada punto: $u$ en la dirección $x$, $v$ en la dirección $y$.\n",
    "- $D$ es el **coeficiente de difusión**, que mide la tendencia natural del café a extenderse espontáneamente y suavizarse.\n",
    "- $\\Delta c$ es el **Laplaciano de $c$**, que mide la curvatura de $c$ y controla el efecto de la difusión espacial.\n",
    "\n",
    "Para responder la pregunta ¿cuánto tiempo es necesario revolver el café? debemos encontrar el estado estacionario del sistema, es decir, cuando la variación de la concentración es nula.\n",
    "\n",
    "---\n",
    "\n",
    "# **Consideraciones**\n"
   ]
  },
  {
   "cell_type": "markdown",
   "id": "9ff16bff",
   "metadata": {},
   "source": [
    "Además considere que usted conoce los siguientes elementos:\n",
    "\n",
    "1. Los **campos de velocidades** estan dados por:\n",
    "$$\n",
    "\\begin{aligned}\n",
    "u(x,y) &= sin(\\pi x) cos(\\pi y)\\\\\n",
    "v(x,y) &=-cos(\\pi x) sin(\\pi y)\n",
    "\\end{aligned}\n",
    "$$\n",
    "\n",
    "2. El **coeficiente de difusión** $D$ es un valor conocido:\n",
    "$$\n",
    "D = 0.0005\n",
    "$$\n",
    "\n",
    "3. Las condiciones de borde son periódicas.\n",
    "\n",
    "4. El dominio es cuadrado\n",
    "$$\n",
    "(x,y) = \\in [0,1] \\times [0,1]\n",
    "$$\n",
    "\n",
    "5. La condición inical $c(x,y,0)$ consiste en una distribución uniforme de café, lo cual se modela así:\n",
    "$$\n",
    "c(x,y,0) = C_0\n",
    "$$"
   ]
  },
  {
   "cell_type": "markdown",
   "id": "fa0f02f2",
   "metadata": {},
   "source": [
    "---"
   ]
  },
  {
   "cell_type": "markdown",
   "id": "dfe113b9",
   "metadata": {},
   "source": [
    "# **Discretización**\n",
    "\n",
    "## **Discretización del Dominio**\n",
    "El dominio $[0,1] \\times [0,1]$ se divide en una mmala de puntos. Podemos definir el tamaño de paso en cada dirección como $h_x$ y $h_y$. Para un cuadrado podemos usar $h = h_x = h_y$. Los puntos de la malla se pueden indexar como $(x,y)$. Además necesitamos definir el avance del tiempo con un $h_t$\n",
    "$$\n",
    "\\begin{align*}\n",
    "x_i = i \\cdot h \\\\\n",
    "y_i = i \\cdot h \\\\\n",
    "t_i = i \\cdot h_t\n",
    "\\end{align*}\n",
    "$$\n",
    "\n",
    "Dado que buscamos el estado estacionario, la derivada temporal es nula, por lo que la EDP se reduce a una ecuación de estado estacionario:\n",
    "$$\n",
    "D \\Delta c - u(x,y) \\frac{\\partial c}{\\partial x} - v(x,y) \\frac{\\partial c}{\\partial y} = 0\n",
    "$$\n",
    "Para resolverla, aproximaremos las derivadas espaciales utilizando el método de **diferencias finitas**.\n",
    "\n",
    "#### Término de Difusión (Laplaciano)\n",
    "El término de difusión $\\Delta c = \\frac{\\partial^2 c}{\\partial x^2} + \\frac{\\partial^2 c}{\\partial y^2}$ se aproxima utilizando la **diferencia central finita de segundo orden** para cada derivada parcial, lo que produce una aproximación de la derivada en el punto $(i,j)$ de la malla:\n",
    "$$\n",
    "\\Delta c \\bigg|_{i,j} \\approx \\frac{c_{i+1,j}+ c_{i-1,j} + c_{i,j+1} + c_{i,j-1} -4c_{i,j} }{h^2}\n",
    "$$\n",
    "Este esquema de diferencias finitas relaciona la concentración en un punto central con sus cuatro vecinos directos (arriba, abajo, izquierda y derecha). \n",
    "\n",
    "#### Términos de Advección\n",
    "Los términos de advección también se aproximan usando **diferencias finitas centradas de segundo orden**. Las derivadas parciales en el punto $(i,j)$ se aproximan como:\n",
    "$$\n",
    "\\begin{align*}\n",
    "\\frac{\\partial c}{\\partial x} \\bigg|_{i,j} &\\approx \\frac{c_{i+1,j} -c_{i-1,j}}{2h} \\\\\n",
    "\\frac{\\partial c}{\\partial y} \\bigg|_{i,j} &\\approx \\frac{c_{i,j+1} -c_{i,j-1}}{2h}\n",
    "\\end{align*}\n",
    "$$\n",
    "Las velocidades $u$ y $v$ se evalúan en cada punto de la malla, $u_{i,j} = u(x_i, y_j)$ y $v_{i,j} = v(x_i, y_j)$.\n",
    "\n",
    "#### Ecuación Discreta y Sistema de Ecuaciones\n",
    "Al sustituir las aproximaciones de diferencias finitas en la EDP de estado estacionario, obtenemos un sistema de ecuaciones para cada punto de la malla $(i,j)$:\n",
    "$$\n",
    "D \\left( \\frac{c_{i+1,j}+ c_{i-1,j} + c_{i,j+1} + c_{i,j-1} -4c_{i,j} }{h^2} \\right) - u_{i,j} \\left( \\frac{c_{i+1,j} -c_{i-1,j}}{2h} \\right) - v_{i,j} \\left( \\frac{c_{i,j+1} -c_{i,j-1}}{2h} \\right) = 0\n",
    "$$\n",
    "Este conjunto de ecuaciones representa el **residuo** del sistema. Cuando estas ecuaciones se satisfacen para todos los puntos de la malla, la solución está en equilibrio. Si se organiza la concentración $c_{i,j}$ en un vector aplanado $\\mathbf{c}$, el problema se convierte en encontrar la raíz del sistema de ecuaciones no lineales $F(\\mathbf{c}) = 0$."
   ]
  },
  {
   "cell_type": "markdown",
   "id": "c83be955",
   "metadata": {},
   "source": [
    "# **PROGRAMACIÓN**"
   ]
  },
  {
   "cell_type": "code",
   "execution_count": 12,
   "id": "edced9a6",
   "metadata": {},
   "outputs": [],
   "source": [
    "import numpy as np\n",
    "import matplotlib.pyplot as plt\n",
    "from scipy.ndimage import map_coordinates\n",
    "import matplotlib.animation as animation\n",
    "from IPython.display import HTML\n",
    "from scipy.ndimage import map_coordinates\n"
   ]
  },
  {
   "cell_type": "markdown",
   "id": "24d5e430",
   "metadata": {},
   "source": [
    "### **FUNCIONES AUXILIARES**"
   ]
  },
  {
   "cell_type": "code",
   "execution_count": 13,
   "id": "786d5545",
   "metadata": {},
   "outputs": [],
   "source": [
    "\n",
    "def velocity_field(X, Y):\n",
    "    \"\"\"Define el campo de velocidad.\"\"\"\n",
    "    u = np.sin(np.pi * X) * np.cos(np.pi * Y)\n",
    "    v = -np.cos(np.pi * X) * np.sin(np.pi * Y)\n",
    "    return u, v\n",
    "\n",
    "def initial_concentration(X, Y):\n",
    "    \"\"\"Crea 5 concentraciones formando un pentágono de concentración inicial.\"\"\"\n",
    "    c0 = np.zeros_like(X)\n",
    "    center_x, center_y = 0.5, 0.5\n",
    "    radius = 0.45\n",
    "    angles = np.linspace(0, 2*np.pi, 6)[:-1]  \n",
    "\n",
    "    for angle in angles:\n",
    "        px = center_x + radius * np.cos(angle)\n",
    "        py = center_y + radius * np.sin(angle)\n",
    "        c0 += np.exp(-100 * ((X - px)**2 + (Y - py)**2))\n",
    "    return c0\n",
    "\n",
    "# def initial_concentration(X, Y, C0=1.0):\n",
    "#     \"\"\"Crea una concentración inicial uniforme.\"\"\"\n",
    "#     return np.full_like(X, C0)\n",
    "\n",
    "def plot_concentration(c, title='Estado Estacionario'):\n",
    "    \"\"\"Grafica la concentración.\"\"\"\n",
    "    fig, ax = plt.subplots(figsize=(6,6))\n",
    "    im = ax.imshow(\n",
    "        c, extent=(0,1,0,1), origin='lower', cmap='plasma',\n",
    "        vmin=0, vmax=1\n",
    "    )\n",
    "    plt.axis('off')\n",
    "    cbar = plt.colorbar(im, ax=ax, label='Concentración')\n",
    "    cbar.set_ticks(np.linspace(0, 1, 6))\n",
    "    plt.title(title)\n",
    "    plt.show()"
   ]
  },
  {
   "cell_type": "markdown",
   "id": "411e1018",
   "metadata": {},
   "source": [
    "### **FUNCIONES A COMPLETAR**"
   ]
  },
  {
   "cell_type": "code",
   "execution_count": 14,
   "id": "03bdb9bc",
   "metadata": {},
   "outputs": [],
   "source": [
    "def compute_residual(c_flat, D, u, v, h):\n",
    "    \"\"\"\n",
    "    Calcula el residuo F(c) para la ecuación de estado estacionario.\n",
    "    \n",
    "    Parámetros:\n",
    "    - c_flat: ndarray, concentración actual aplanada.\n",
    "    - D: coeficiente de difusión.\n",
    "    - u, v: campos de velocidad en la malla.\n",
    "    - h: tamaño del paso espacial.\n",
    "\n",
    "    Retorna:\n",
    "    - F_flat: ndarray, vector de residuo aplanado.\n",
    "    \"\"\"\n",
    "    n = int(np.sqrt(c_flat.size))\n",
    "    c = c_flat.reshape((n, n))\n",
    "    \n",
    "    # Término de difusión\n",
    "    diffusion = D * (\n",
    "        np.roll(c, 1, axis=0) + np.roll(c, -1, axis=0) +\n",
    "        np.roll(c, 1, axis=1) + np.roll(c, -1, axis=1) - 4 * c\n",
    "    ) / h**2\n",
    "    \n",
    "    # Término de advección\n",
    "    advection = u * (np.roll(c, -1, axis=1) - np.roll(c, 1, axis=1)) / (2 * h) + \\\n",
    "                v * (np.roll(c, -1, axis=0) - np.roll(c, 1, axis=0)) / (2 * h)\n",
    "    \n",
    "    # El residuo F(c) = Difusión - Advección\n",
    "    F = diffusion - advection\n",
    "    \n",
    "    return F.flatten()\n",
    "\n",
    "def approximate_jacobian(F, c, D, u, v, h, epsilon=1e-6):\n",
    "    \"\"\"\n",
    "    Aproxima la matriz Jacobiana J_F de la función F en el punto c.\n",
    "    \"\"\"\n",
    "    n2 = c.size\n",
    "    J = np.zeros((n2, n2))\n",
    "    \n",
    "    F0 = F(c, D, u, v, h)\n",
    "    \n",
    "    for i in range(n2):\n",
    "        c_perturbed = c.copy()\n",
    "        c_perturbed[i] += epsilon\n",
    "        F_perturbed = F(c_perturbed, D, u, v, h)\n",
    "        J[:, i] = (F_perturbed - F0) / epsilon\n",
    "    \n",
    "    return J\n",
    "\n",
    "def newton_solver(F, c0_flat, D, u, v, h, tol=1e-6, max_iter=20):\n",
    "    \"\"\"\n",
    "    Resuelve F(c) = 0 para encontrar el estado estacionario.\n",
    "    \"\"\"\n",
    "    c = c0_flat.copy()\n",
    "    for iteration in range(max_iter):\n",
    "        F_c = F(c, D, u, v, h)\n",
    "        norm_F = np.linalg.norm(F_c)\n",
    "        print(f\"Iteración {iteration}: ||F(c)|| = {norm_F:.2e}\")\n",
    "        \n",
    "        if norm_F < tol:\n",
    "            print(\"Convergencia alcanzada.\")\n",
    "            break\n",
    "            \n",
    "        J = approximate_jacobian(F, c, D, u, v, h)\n",
    "        \n",
    "        try:\n",
    "            delta_c = np.linalg.solve(J, -F_c)\n",
    "            c += delta_c\n",
    "        except np.linalg.LinAlgError:\n",
    "            print(\"Error: La matriz Jacobiana es singular. Abortando.\")\n",
    "            break\n",
    "    else:\n",
    "        print(\"El método de Newton no convergió después del número máximo de iteraciones.\")\n",
    "    \n",
    "    return c"
   ]
  },
  {
   "cell_type": "markdown",
   "id": "33efe28e",
   "metadata": {},
   "source": [
    "### **GRAFICAR RESULTADOS**"
   ]
  },
  {
   "cell_type": "code",
   "execution_count": 16,
   "id": "4832a316",
   "metadata": {},
   "outputs": [
    {
     "data": {
      "image/png": "[encoded data removed]",
      "text/plain": [
       "<Figure size 600x600 with 2 Axes>"
      ]
     },
     "metadata": {},
     "output_type": "display_data"
    },
    {
     "name": "stdout",
     "output_type": "stream",
     "text": [
      "Iniciando el solver de Newton para el estado estacionario...\n",
      "Iteración 0: ||F(c)|| = 1.09e+02\n",
      "Iteración 1: ||F(c)|| = 3.34e-08\n",
      "Convergencia alcanzada.\n"
     ]
    },
    {
     "data": {
      "image/png": "[encoded data removed]",
      "text/plain": [
       "<Figure size 600x600 with 2 Axes>"
      ]
     },
     "metadata": {},
     "output_type": "display_data"
    }
   ],
   "source": [
    "N = 50       # Número de puntos en cada dimensión\n",
    "h = 1.0 / (N - 1)\n",
    "D = 0.0005\n",
    "C0_initial = 1.0 # Concentración inicial para la adivinanza\n",
    "\n",
    "# Malla y campos\n",
    "x = np.linspace(0, 1, N)\n",
    "y = np.linspace(0, 1, N)\n",
    "X, Y = np.meshgrid(x, y)\n",
    "u, v = velocity_field(X, Y)\n",
    "\n",
    "# Condición inicial (adivinanza inicial para Newton)\n",
    "c0 = initial_concentration(X, Y)\n",
    "c0_flat = c0.flatten()\n",
    "    \n",
    "plot_concentration(c0, title='Condición Inicial para Newton')\n",
    "    \n",
    "# Resolviendo el problema de estado estacionario con el Método de Newton\n",
    "print(\"Iniciando el solver de Newton para el estado estacionario...\")\n",
    "c_steady_flat = newton_solver(compute_residual, c0_flat, D, u, v, h)\n",
    "    \n",
    "# Graficar la solución final\n",
    "c_steady = c_steady_flat.reshape(N, N)\n",
    "plot_concentration(c_steady, title='Solución de Estado Estacionario (Método de Newton)')"
   ]
  },
  {
   "cell_type": "markdown",
   "id": "0f6870b3",
   "metadata": {},
   "source": [
    "# CODIGO OPCION 2"
   ]
  },
  {
   "cell_type": "code",
   "execution_count": null,
   "id": "2b7ae75a",
   "metadata": {},
   "outputs": [],
   "source": []
  }
 ],
 "metadata": {
  "kernelspec": {
   "display_name": "global-venv",
   "language": "python",
   "name": "python3"
  },
  "language_info": {
   "codemirror_mode": {
    "name": "ipython",
    "version": 3
   },
   "file_extension": ".py",
   "mimetype": "text/x-python",
   "name": "python",
   "nbconvert_exporter": "python",
   "pygments_lexer": "ipython3",
   "version": "3.13.7"
  }
 },
 "nbformat": 4,
 "nbformat_minor": 5
}
