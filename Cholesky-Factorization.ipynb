{
 "cells": [
  {
   "cell_type": "markdown",
   "id": "67e2a82a",
   "metadata": {},
   "source": [
    "# **1. Cholesky factorization**\n",
    "Etienne Rojas\n",
    "\n",
    "---"
   ]
  },
  {
   "cell_type": "markdown",
   "id": "1bdc387f",
   "metadata": {},
   "source": [
    "**Important:** This algorithm only works for **positive definite and symmetric matrices**.\n",
    "\n",
    "The Cholesky Factorization consist on find a factorization with the following form:\n",
    "\n",
    "$$\n",
    "A = R^T R = \\begin{bmatrix}\n",
    "\\ddots & 0 \\\\\n",
    "& \\ddots\n",
    "\\end{bmatrix}\n",
    "\\begin{bmatrix}\n",
    "\\ddots & \\\\\n",
    "0 & \\ddots\n",
    "\\end{bmatrix}\n",
    "$$\n"
   ]
  },
  {
   "cell_type": "markdown",
   "id": "c1318357",
   "metadata": {},
   "source": [
    "\n",
    "## **1.1 Definition (Positive Definite Matrix).**  \n",
    "A matrix $A$ of size $n \\times n$ is positive definite and symetric if:\n",
    "$$\n",
    "A = A^T \\wedge x^* A x > 0\n",
    "$$\n",
    "\n",
    "---\n"
   ]
  },
  {
   "cell_type": "markdown",
   "id": "bed4a8aa",
   "metadata": {},
   "source": [
    "\n",
    "## **1.2 Properties of a Positive Definite and Symmetric Matrix**\n",
    "1. If a matrix $A$ of size $n \\times n$ is symmetric, then $A$ is positive definite if and only if all its eigenvalues are positive.\n",
    "2. If a matrix $A$ of size $n \\times n$ is symmetric and positive definite, and $X$ is a full-rank matrix of size $n \\times m$ with $n \\geq m$, then $X^T A X$ is also symmetric and positive definite.\n",
    "3. Any principal submatrix of a symmetric and positive definite matrix $A$ is also symmetric and positive definite.\n",
    "\n",
    "---\n"
   ]
  },
  {
   "cell_type": "markdown",
   "id": "bc73ec76",
   "metadata": {},
   "source": [
    "## **1.3 Base Case**\n",
    "$$\n",
    "\\begin{bmatrix}\n",
    "a & b \\\\\n",
    "b & c\n",
    "\\end{bmatrix}\n",
    "=\n",
    "\\begin{bmatrix}\n",
    "r_{11} & 0 \\\\\n",
    "r_{21} & r_{22}\n",
    "\\end{bmatrix}\n",
    "\\begin{bmatrix}\n",
    "r_{11} & r_{21} \\\\\n",
    "0 & r_{22}\n",
    "\\end{bmatrix}\n",
    "$$\n",
    "\n",
    "**1. Multiply $R^T R$:**\n",
    "$$\n",
    "\\begin{bmatrix}\n",
    "a & b \\\\\n",
    "b & c\n",
    "\\end{bmatrix}\n",
    "=\n",
    "\\begin{bmatrix}\n",
    "r_{11}^2 & r_{11} r_{21} \\\\\n",
    "r_{11} r_{21} & r_{21}^2 + r_{22}^2\n",
    "\\end{bmatrix}\n",
    "$$"
   ]
  },
  {
   "cell_type": "markdown",
   "id": "13891bc3",
   "metadata": {},
   "source": [
    "$$\n",
    "\\begin{bmatrix}\n",
    "a & b \\\\\n",
    "b & c\n",
    "\\end{bmatrix}\n",
    "=\n",
    "\\begin{bmatrix}\n",
    "\\sqrt{a} & 0 \\\\\n",
    "\\dfrac{b}{\\sqrt{a}} & \\sqrt{\\dfrac{ac - b^{2}}{a}}\n",
    "\\end{bmatrix}\n",
    "\\begin{bmatrix}\n",
    "\\sqrt{a} & \\dfrac{b}{\\sqrt{a}} \\\\\n",
    "0 & \\sqrt{\\dfrac{ac - b^{2}}{a}}\n",
    "\\end{bmatrix}\n",
    "$$\n",
    "\n",
    "**2. is  $a \\cdot c  -b^2 > 0 $ true?**\n",
    "\n",
    "The Cholesky Factorization works for **positive definite and symmetric matrices**, and propery 1 ensures us that a matriz is positive definite if and only if **all its eigenvalues are positive**.\n",
    "\n",
    "Using the fact that all $\\lambda_i >0$, and the next expression for the det:\n",
    "\n",
    "$$\n",
    "det(A) = \\prod_{i=1}^n \\lambda_i\n",
    "$$\n",
    "\n",
    "Is trivial that $a \\cdot c  -b^2 > 0$\n",
    "\n",
    "---"
   ]
  },
  {
   "cell_type": "markdown",
   "id": "f011a243",
   "metadata": {},
   "source": []
  },
  {
   "cell_type": "code",
   "execution_count": null,
   "id": "f16e4f15",
   "metadata": {},
   "outputs": [],
   "source": []
  }
 ],
 "metadata": {
  "language_info": {
   "name": "python"
  }
 },
 "nbformat": 4,
 "nbformat_minor": 5
}
