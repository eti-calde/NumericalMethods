{
 "cells": [
  {
   "cell_type": "markdown",
   "id": "1a82acfd",
   "metadata": {},
   "source": [
    "# **Optimal Preconditioner Problem**\n",
    "\n",
    "## **Contexto**\n",
    "\n",
    "Un precondicionador es una matriz $M^-1$ tal que es un intermedio entre $I$ y la $A^{-1}$ de forma que al hacer:\n",
    "$$\n",
    "M^{-1}A = M^{-1}b \n",
    "$$\n",
    "\n",
    "Se esta resolviendo el mismo problema, pero en un espacio más sencillo, donde el precondicionador óptimo seria exactamente la inversa de A. Pero hay que tener en mente que para que esto tenga sentido, se tiene que cumplir:\n",
    "$$\n",
    "C(\\text{obtener }M^{-1}) + C(\\text{Multiplicar el sistema por} M^{-1}) < C(\\text{Resolver Sistema Original}) - C(Resolver Sistema Precondicionado)\n",
    "$$\n",
    "\n",
    "Donde $C$ sería una **Función de Costo Computacional**.\n",
    "\n",
    "---\n"
   ]
  },
  {
   "cell_type": "markdown",
   "id": "7ccd275d",
   "metadata": {},
   "source": [
    "## **Problema Específico**\n",
    "Dado que en el problema de encontrar el precondicionador óptimo, sabemos que ese óptimo es la inversa, la cuál generalmente es costosa de calcular, surge la idea de restringir la estructura del precondicionado. Se abordará el problema para una matriz $M^{-1}$ con una estructura tridiagonal, es decir:\n",
    "\n",
    "$$\n",
    "M^{-1}(\\vec{\\alpha},\\vec{\\beta},\\vec{\\gamma}) = \\begin{pmatrix}\n",
    "\\beta_1 & \\gamma_1 & 0 & \\cdots & 0 \\\\\n",
    "\\alpha_2 & \\beta_2 & \\gamma_2 & \\ddots & \\vdots \\\\\n",
    "0 & \\alpha_3 & \\beta_3 & \\ddots & 0 \\\\\n",
    "\\vdots & \\ddots & \\ddots & \\ddots & \\gamma_{n-1} \\\\\n",
    "0 & \\cdots & 0 & \\alpha_n & \\beta_n\n",
    "\\end{pmatrix}\n",
    "$$\n",
    "\n",
    "---\n",
    "\n"
   ]
  },
  {
   "cell_type": "markdown",
   "id": "43e08af4",
   "metadata": {},
   "source": [
    "## **Función Objetivo**\n",
    "Dado un precondicionador $M^{-1}$, necesitamos una forma de medir que tan bueno es, lo cual se puede ver como nuestra **función objetivo**:\n",
    "\n",
    "$$\n",
    "\\min_{(\\vec{\\alpha},\\vec{\\beta},\\vec{\\gamma})} \\|M^{-1} A - I \\|\n",
    "$$\n",
    "\n",
    "Convenientemente podemos utilizar la **Norma de Frobenius**:\n",
    "\n",
    "$$\n",
    "\\min_{(\\vec{\\alpha},\\vec{\\beta},\\vec{\\gamma})} \\|M^{-1} A - I \\|_F\n",
    "$$\n",
    "\n",
    "Podemos definir $B = M^{-1} A - I$, entonces:\n",
    "\n",
    "$$\n",
    "\\| B \\|_F = \\sqrt{\\sum_i^m \\sum_j^m |b_{ij}|^2}\n",
    "$$\n",
    "\n",
    "Como la norma Frobenius se define utilizando una raíz cuadrada, es conveniente elevar al cuadrado la norma de nuestra función objetivo, lo cual no cambia el mínimo, pero si va a eliminar la raíz:\n",
    "\n",
    "$$\n",
    "\\min_{(\\vec{\\alpha},\\vec{\\beta},\\vec{\\gamma})} \\|M^{-1} A - I \\|_F^2 = \\sqrt{\\sum_i^m \\sum_j^m |b_{ij}|^2}^2 = \\sum_i^m \\sum_j^m |b_{ij}|^2\n",
    "$$\n",
    "\n",
    "Es decir, simplemente queremos mínimizar la suma de todos los valores de $B$ en valor absoluto y al cuadrado.\n",
    "\n",
    "---"
   ]
  },
  {
   "cell_type": "markdown",
   "id": "94d18e50",
   "metadata": {},
   "source": [
    "## **Expandir $B$**\n",
    "\n",
    "Veamos un ejemplo relativamente sencillo en un tamaño $N=5$, la matriz $B$ es:\n",
    "$$\n",
    "\\Bigg|\n",
    "\\begin{pmatrix}\n",
    "\\beta_1  & \\gamma_1 & 0        & 0        & 0 \\\\\n",
    "\\alpha_2 & \\beta_2  & \\gamma_2 & 0        & 0 \\\\\n",
    "0        & \\alpha_3 & \\beta_3  & \\gamma_3 & 0 \\\\\n",
    "0        & 0        & \\beta_4  & \\alpha_4 & \\gamma_4 \\\\\n",
    "0        & 0        & 0        & \\alpha_5 & \\beta_5\n",
    "\\end{pmatrix}\n",
    "\\begin{bmatrix}\n",
    "a_{11} & a_{12} & a_{13} & a_{14} & a_{15} \\\\\n",
    "a_{21} & a_{22} & a_{23} & a_{24} & a_{25} \\\\\n",
    "a_{31} & a_{32} & a_{33} & a_{34} & a_{35} \\\\\n",
    "a_{41} & a_{42} & a_{43} & a_{44} & a_{45} \\\\\n",
    "a_{51} & a_{52} & a_{53} & a_{54} & a_{55}\n",
    "\\end{bmatrix}\n",
    "-\n",
    "\\begin{bmatrix}\n",
    "1  & 0 & 0 & 0 & 0 \\\\\n",
    "0  & 1 & 0 & 0 & 0 \\\\\n",
    "0  & 0 & 1 & 0 & 0 \\\\\n",
    "0  & 0 & 0 & 1 & 0 \\\\\n",
    "0  & 0 & 0 & 0 & 1\n",
    "\\end{bmatrix}\n",
    "\\Bigg|^2\n",
    "\n",
    "$$\n",
    "\n",
    "$$\n",
    "\\Bigg|\n",
    "\n",
    "\\begin{bmatrix}\n",
    "\\beta_1 a_{11}+\\gamma_1 a_{21}-1 & \\beta_1 a_{12}+\\gamma_1 a_{22} & \\beta_1 a_{13}+\\gamma_1 a_{23} & \\beta_1 a_{14}+\\gamma_1 a_{24} & \\beta_1 a_{15}+\\gamma_1 a_{25} \\\\\n",
    "\\alpha_2 a_{11}+\\beta_2 a_{21}+\\gamma_2 a_{31} & \\alpha_2 a_{12}+\\beta_2 a_{22}+\\gamma_2 a_{32}-1 & \\alpha_2 a_{13}+\\beta_2 a_{23}+\\gamma_2 a_{33} & \\alpha_2 a_{14}+\\beta_2 a_{24}+\\gamma_2 a_{34} & \\alpha_2 a_{15}+\\beta_2 a_{25}+\\gamma_2 a_{35} \\\\\n",
    "\\alpha_3 a_{21}+\\beta_3 a_{31}+\\gamma_3 a_{41} & \\alpha_3 a_{22}+\\beta_3 a_{32}+\\gamma_3 a_{42} & \\alpha_3 a_{23}+\\beta_3 a_{33}+\\gamma_3 a_{43}-1 & \\alpha_3 a_{24}+\\beta_3 a_{34}+\\gamma_3 a_{44} & \\alpha_3 a_{25}+\\beta_3 a_{35}+\\gamma_3 a_{45} \\\\\n",
    "\\beta_4 a_{31}+\\alpha_4 a_{41}+\\gamma_4 a_{51} & \\beta_4 a_{32}+\\alpha_4 a_{42}+\\gamma_4 a_{52} & \\beta_4 a_{33}+\\alpha_4 a_{43}+\\gamma_4 a_{53} & \\beta_4 a_{34}+\\alpha_4 a_{44}+\\gamma_4 a_{54}-1 & \\beta_4 a_{35}+\\alpha_4 a_{45}+\\gamma_4 a_{55} \\\\\n",
    "\\alpha_5 a_{41}+\\beta_5 a_{51} & \\alpha_5 a_{42}+\\beta_5 a_{52} & \\alpha_5 a_{43}+\\beta_5 a_{53} & \\alpha_5 a_{44}+\\beta_5 a_{54} & \\alpha_5 a_{45}+\\beta_5 a_{55}-1\n",
    "\\end{bmatrix}\n",
    "\\Bigg|^2\n",
    "\n",
    "$$\n",
    "\n",
    "Ahora notamos claramente que cada fila de la matriz resultante $B_i$ depende solo de los valores $(\\alpha_i, \\beta_i, \\gamma_i)$, así que surge naturalmente la idea de separar el problema en un conjunto de problemas más sencillos.\n",
    "\n",
    "---\n",
    "\n"
   ]
  },
  {
   "cell_type": "markdown",
   "id": "453e02b6",
   "metadata": {},
   "source": [
    "# **Replantear el problema de minimización**\n",
    "\n",
    "Si vemos por ejemplo la fila 2:\n",
    "$$\n",
    "B_{2,:} =|[\\alpha_2 a_{11}+\\beta_2 a_{21}+\\gamma_2 a_{31} + \\alpha_2 a_{12}+\\beta_2 a_{22}+\\gamma_2 a_{32}-1 + \\alpha_2 a_{13}+\\beta_2 a_{23}+\\gamma_2 a_{33} + \\alpha_2 a_{14}+\\beta_2 a_{24}+\\gamma_2 a_{34} + \\alpha_2 a_{15}+\\beta_2 a_{25}+\\gamma_2 a_{35}]|^2\n",
    "$$\n",
    "\n",
    "Entonces podemos ver que para una fila i-ésima, la minimización es una combinación lineal de $\\alpha_i, \\beta_i, \\gamma_i$ con la submatriz que incluye todas las columas y las filas $i-1, i, i+1$\n",
    "\n",
    "$$\n",
    "B_{i,j} = \\alpha_i a_{i-1},j + \\beta_i a_{i,j} + \\gamma_{i} a_{i+1,j} - \\delta_{i,j}\n",
    "$$\n",
    "\n",
    "Donde el $\\delta_{i,j}$ es $1$ si y sólo si $i=j$ y 0 en otro caso. Entonces podemos expresar el problema en forma matricial, donde buscamos minimizar:\n",
    "$$\n",
    "\\| X w - y \\|^ 2\n",
    "$$\n",
    "\n",
    "Donde:\n",
    "$$\n",
    "X_i\n",
    "\\begin{bmatrix}\n",
    "a_{i-1,1} & a_{i,1} & a_{i+1,1} \\\\\n",
    "a_{i-1,2} & a_{i,2} & a_{i+1,2} \\\\\n",
    "\\vdots & \\vdots & \\vdots \\\\\n",
    "a_{i-1,n} & a_{i,n} & a_{i+1,n} \n",
    "\\end{bmatrix}\n",
    "\\quad,\n",
    "\n",
    "w_i =\n",
    "\\begin{bmatrix}\n",
    "\\alpha_i \\\\\n",
    "\\beta_i \\\\\n",
    "\\gamma_i \n",
    "\\end{bmatrix}\n",
    "\\quad,\n",
    "\n",
    "y_i =\n",
    "\\begin{bmatrix}\n",
    "\\delta_{i1} \\\\\n",
    "\\delta_{i2} \\\\\n",
    "\\vdots      \\\\\n",
    "\\delta_{in}\n",
    "\\end{bmatrix}\n",
    "$$\n",
    "\n",
    "---"
   ]
  },
  {
   "cell_type": "markdown",
   "id": "915712b2",
   "metadata": {},
   "source": [
    "# QR\n",
    "\n",
    "$$\n",
    "\\begin{align*}\n",
    "Xw   &= y, \\quad X = QR \\\\\n",
    "QRw  &= y \\\\\n",
    "Rw   &= Q^Ty\n",
    "\n",
    "\\end{align*}\n",
    "$$"
   ]
  },
  {
   "cell_type": "code",
   "execution_count": 15,
   "id": "290eb876",
   "metadata": {},
   "outputs": [],
   "source": [
    "import numpy as np\n",
    "from scipy.sparse import spdiags\n",
    "from scipy.sparse.linalg import gmres, LinearOperator\n",
    "\n",
    "def optimal_preconditioner_qr(A, verbose = True):\n",
    "    debug = lambda msg: print(msg) if verbose else None\n",
    "\n",
    "    n = A.shape[0]\n",
    "    alpha = np.zeros(n)\n",
    "    beta = np.zeros(n)\n",
    "    gamma = np.zeros(n)\n",
    "    \n",
    "    # Resolver para la primera fila (i = 0)\n",
    "    # Las columnas de la matriz X son las filas relevantes de A.\n",
    "    debug(f\"\\n =================== FILA 0 =================== \")\n",
    "    \n",
    "    X0 = np.stack([A[0, :], A[1, :]], axis=1)\n",
    "    y0 = np.zeros(n)\n",
    "    y0[0] = 1\n",
    "\n",
    "    Q0, R0 = np.linalg.qr(X0)\n",
    "    c0 = Q0.T @ y0\n",
    "    w0 = np.linalg.solve(R0, c0)\n",
    "    beta[0], gamma[0] = w0[0], w0[1]\n",
    "\n",
    "    debug(f\"1. Construir X:\\n{np.round(X0, 2)} \")\n",
    "    debug(f\"2. Construir Y:\\n{y0}\")\n",
    "    debug(f\"3. Encontrar Beta y Gamma\\n:, {beta[0],gamma[0]}\")\n",
    "    debug(f\"\\n ============================================== \\n\")\n",
    "    \n",
    "    # Resolver para las filas intermedias (i = 1 a n-2)\n",
    "    for i in range(1, n - 1):\n",
    "        debug(f\"\\n =================== FILA {i} =================== \")\n",
    "        X_i = np.stack([A[i - 1, :], A[i, :], A[i + 1, :]], axis=1)\n",
    "        y_i = np.zeros(n)\n",
    "        y_i[i] = 1\n",
    "        \n",
    "        Q_i, R_i = np.linalg.qr(X_i)\n",
    "        c_i = Q_i.T @ y_i\n",
    "        w_i = np.linalg.solve(R_i, c_i)\n",
    "        alpha[i], beta[i], gamma[i] = w_i[0], w_i[1], w_i[2]\n",
    "        debug(f\"1. Construir X:\\n{np.round(X_i, 2)} \")\n",
    "        debug(f\"2. Construir Y:\\n{y_i}\")\n",
    "        debug(f\"3. Encontrar Alpha, Beta y Gamma\\n:, {alpha[i], beta[i],gamma[i]}\")\n",
    "        debug(f\"\\n ============================================== \\n\")\n",
    "    # Resolver para la última fila (i = n-1)\n",
    "    debug(f\"\\n =================== FILA {n} =================== \")\n",
    "    X_n = np.stack([A[n - 2, :], A[n - 1, :]], axis=1)\n",
    "    y_n = np.zeros(n)\n",
    "    y_n[n-1] = 1\n",
    "    \n",
    "    Q_n, R_n = np.linalg.qr(X_n)\n",
    "    c_n = Q_n.T @ y_n\n",
    "    w_n = np.linalg.solve(R_n, c_n)\n",
    "    alpha[n-1], beta[n-1] = w_n[0], w_n[1]\n",
    "\n",
    "    debug(f\"1. Construir X:\\n{np.round(X_n, 2)} \")\n",
    "    debug(f\"2. Construir Y:\\n{y_n}\")\n",
    "    debug(f\"3. Encontrar Beta y Gamma\\n:, {alpha[n-1],beta[n-1],gamma[n-1]}\")\n",
    "    debug(f\"\\n ============================================== \\n\")\n",
    "    # Construir la matriz M^-1\n",
    "    M_inv = np.zeros((n, n))\n",
    "    np.fill_diagonal(M_inv, beta)\n",
    "    np.fill_diagonal(M_inv[1:], alpha[1:])\n",
    "    np.fill_diagonal(M_inv[:, 1:], gamma[:-1])\n",
    "    \n",
    "    \n",
    "    return LinearOperator(shape=(n, n), matvec=lambda v: M_inv @ v)\n"
   ]
  },
  {
   "cell_type": "code",
   "execution_count": 39,
   "id": "f5a37d7d",
   "metadata": {},
   "outputs": [],
   "source": [
    "n = 500\n",
    "np.random.seed(0)\n",
    "A = np.random.rand(n, n)\n",
    "b = np.ones(n)"
   ]
  },
  {
   "cell_type": "markdown",
   "id": "87034155",
   "metadata": {},
   "source": [
    "# Costo Sin Precondicionador"
   ]
  },
  {
   "cell_type": "code",
   "execution_count": 40,
   "id": "960d4cbe",
   "metadata": {},
   "outputs": [
    {
     "name": "stdout",
     "output_type": "stream",
     "text": [
      "1.82 s ± 102 ms per loop (mean ± std. dev. of 7 runs, 1 loop each)\n"
     ]
    }
   ],
   "source": [
    "%%timeit \n",
    "x_no_prec, info_no_prec = gmres(A, b, callback=callback)"
   ]
  },
  {
   "cell_type": "code",
   "execution_count": 41,
   "id": "cb0d19a1",
   "metadata": {},
   "outputs": [
    {
     "name": "stdout",
     "output_type": "stream",
     "text": [
      "5.33 s ± 222 ms per loop (mean ± std. dev. of 7 runs, 1 loop each)\n"
     ]
    }
   ],
   "source": [
    "%%timeit\n",
    "my_preconditioner = optimal_preconditioner_qr(A, verbose=False)\n",
    "x_prec, info_prec = gmres(A, b, M=my_preconditioner, callback=callback)"
   ]
  },
  {
   "cell_type": "code",
   "execution_count": 46,
   "id": "a4f18be7",
   "metadata": {},
   "outputs": [
    {
     "name": "stdout",
     "output_type": "stream",
     "text": [
      "cond A: 246817.3743797503\n",
      "||b-Ax_no_prec|| 0.5794101204736667\n",
      "||b-Ax_prec|| 0.6442414301000733\n"
     ]
    }
   ],
   "source": [
    "print(\"cond A:\",np.linalg.cond(A))\n",
    "\n",
    "x_no_prec, info_no_prec = gmres(A, b, callback=callback)\n",
    "my_preconditioner = optimal_preconditioner_qr(A, verbose=False)\n",
    "x_prec, info_prec = gmres(A, b, M=my_preconditioner, callback=callback)\n",
    "print(\"||b-Ax_no_prec||\",np.linalg.norm(b - A @ x_no_prec))\n",
    "print(\"||b-Ax_prec||\",np.linalg.norm(b - A @ x_prec))"
   ]
  },
  {
   "cell_type": "code",
   "execution_count": null,
   "id": "f0eb0fd2",
   "metadata": {},
   "outputs": [],
   "source": []
  },
  {
   "cell_type": "code",
   "execution_count": null,
   "id": "45f7e523",
   "metadata": {},
   "outputs": [],
   "source": []
  }
 ],
 "metadata": {
  "kernelspec": {
   "display_name": "global-venv",
   "language": "python",
   "name": "python3"
  },
  "language_info": {
   "codemirror_mode": {
    "name": "ipython",
    "version": 3
   },
   "file_extension": ".py",
   "mimetype": "text/x-python",
   "name": "python",
   "nbconvert_exporter": "python",
   "pygments_lexer": "ipython3",
   "version": "3.13.7"
  }
 },
 "nbformat": 4,
 "nbformat_minor": 5
}
