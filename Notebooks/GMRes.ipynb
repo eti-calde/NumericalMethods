{
 "cells": [
  {
   "cell_type": "code",
   "execution_count": 1,
   "id": "54d257e0",
   "metadata": {},
   "outputs": [],
   "source": [
    "import numpy as np\n",
    "import matplotlib.pyplot as plt\n",
    "from ipywidgets import interact, FloatSlider, Dropdown\n"
   ]
  },
  {
   "cell_type": "code",
   "execution_count": 3,
   "id": "fd7306a0",
   "metadata": {},
   "outputs": [
    {
     "name": "stdout",
     "output_type": "stream",
     "text": [
      "Matriz A:\n",
      " [[-10   3   1]\n",
      " [ -9   8  -6]\n",
      " [ -5  -7  -4]]\n",
      "x (ground truth):\n",
      " [[-4]\n",
      " [-2]\n",
      " [ 3]]\n",
      "b = Ax:\n",
      " [[37]\n",
      " [ 2]\n",
      " [22]]\n",
      "Condición de A: 3.006896797645594\n"
     ]
    }
   ],
   "source": [
    "def generar_sistema(N, semilla=42):\n",
    "    \"\"\"\n",
    "    Genera un sistema lineal Ax = b de tamaño NxN con A de rango completo\n",
    "    y una solución ground truth x.\n",
    "    \n",
    "    Parámetros:\n",
    "        N (int): Tamaño de la matriz cuadrada A.\n",
    "        semilla (int): Semilla aleatoria para reproducibilidad.\n",
    "    \n",
    "    Retorna:\n",
    "        A (ndarray): Matriz NxN de rango completo.\n",
    "        x_true (ndarray): Vector solución ground truth.\n",
    "        b (ndarray): Vector resultado (Ax).\n",
    "    \"\"\"\n",
    "    rng = np.random.default_rng(semilla)\n",
    "    \n",
    "    # Generamos una matriz aleatoria y verificamos que tenga rango completo\n",
    "    while True:\n",
    "        A = rng.integers(low=-10, high=10, size=(N, N))\n",
    "        if np.linalg.matrix_rank(A) == N:\n",
    "            break\n",
    "    \n",
    "    # Generamos un x ground truth aleatorio\n",
    "    x_true = rng.integers(low=-5, high=5, size=(N, 1))\n",
    "    \n",
    "    # Calculamos b = A @ x\n",
    "    b = A @ x_true\n",
    "    \n",
    "    return A, x_true, b\n",
    "\n",
    "\n",
    "N = 3\n",
    "A, x_true, b = generar_sistema(N, semilla=123)\n",
    "print(\"Matriz A:\\n\", A)\n",
    "print(\"x (ground truth):\\n\", x_true)\n",
    "print(\"b = Ax:\\n\", b)\n",
    "print(\"Condición de A:\", np.linalg.cond(A))"
   ]
  },
  {
   "cell_type": "markdown",
   "id": "e7f5f883",
   "metadata": {},
   "source": [
    "---"
   ]
  },
  {
   "cell_type": "markdown",
   "id": "e1dd1691",
   "metadata": {},
   "source": [
    "# GMRes Profe"
   ]
  },
  {
   "cell_type": "code",
   "execution_count": 13,
   "id": "294816bf",
   "metadata": {},
   "outputs": [
    {
     "name": "stdout",
     "output_type": "stream",
     "text": [
      "[[-35. -35. -35. -35.]\n",
      " [-38. -38. -38. -38.]\n",
      " [-23. -23. -23. -23.]\n",
      " [  1.   1.   1.   1.]]\n",
      "113.11940593903418\n"
     ]
    },
    {
     "ename": "ValueError",
     "evalue": "could not broadcast input array from shape (4,4) into shape (4,)",
     "output_type": "error",
     "traceback": [
      "\u001b[1;31m---------------------------------------------------------------------------\u001b[0m",
      "\u001b[1;31mValueError\u001b[0m                                Traceback (most recent call last)",
      "Cell \u001b[1;32mIn[13], line 66\u001b[0m\n\u001b[0;32m     63\u001b[0m     \u001b[38;5;28;01mreturn\u001b[39;00m x, out_res\n\u001b[0;32m     65\u001b[0m x0 \u001b[38;5;241m=\u001b[39m np\u001b[38;5;241m.\u001b[39mzeros(N)\n\u001b[1;32m---> 66\u001b[0m x_our, _ \u001b[38;5;241m=\u001b[39m GMRes(A,b,x0)\n",
      "Cell \u001b[1;32mIn[13], line 12\u001b[0m, in \u001b[0;36mGMRes\u001b[1;34m(A, b, x0, m, flag_display, threshold)\u001b[0m\n\u001b[0;32m     10\u001b[0m \u001b[38;5;28mprint\u001b[39m(r0)\n\u001b[0;32m     11\u001b[0m \u001b[38;5;28mprint\u001b[39m(nr0)\n\u001b[1;32m---> 12\u001b[0m Q[:,\u001b[38;5;241m0\u001b[39m] \u001b[38;5;241m=\u001b[39m r0 \u001b[38;5;241m/\u001b[39m nr0\n\u001b[0;32m     13\u001b[0m flag_break\u001b[38;5;241m=\u001b[39m\u001b[38;5;28;01mFalse\u001b[39;00m\n\u001b[0;32m     14\u001b[0m \u001b[38;5;28;01mfor\u001b[39;00m k \u001b[38;5;129;01min\u001b[39;00m np\u001b[38;5;241m.\u001b[39marange(\u001b[38;5;28mmin\u001b[39m(m,n)):\n",
      "\u001b[1;31mValueError\u001b[0m: could not broadcast input array from shape (4,4) into shape (4,)"
     ]
    }
   ],
   "source": [
    "def GMRes(A, b, x0=np.array([0.0]), m=10, flag_display=True, threshold=1e-12):\n",
    "    n = len(b)\n",
    "    if len(x0)==1:\n",
    "        x0=np.zeros(n)\n",
    "    r0 = b - np.dot(A, x0)\n",
    "    nr0=np.linalg.norm(r0)\n",
    "    out_res=np.array(nr0)\n",
    "    Q = np.zeros((n,min(n,m+1)))\n",
    "    H = np.zeros((min(n,m+1),min(n,m)))\n",
    "    print(r0)\n",
    "    print(nr0)\n",
    "    Q[:,0] = r0 / nr0\n",
    "    flag_break=False\n",
    "    for k in np.arange(min(m,n)):\n",
    "        y = np.dot(A, Q[:,k])\n",
    "        if flag_display:\n",
    "            print('||y||=',np.linalg.norm(y))\n",
    "        for j in np.arange(k+1):\n",
    "            H[j][k] = np.dot(Q[:,j], y)\n",
    "            if flag_display:\n",
    "                print('H[',j,'][',k,']=',H[j][k])\n",
    "            y = y - np.dot(H[j][k],Q[:,j])\n",
    "            if flag_display:\n",
    "                print('||y||=',np.linalg.norm(y))\n",
    "        # All but the last equation are treated equally. Why?\n",
    "        if k+1<n:\n",
    "            H[k+1][k] = np.linalg.norm(y)\n",
    "            if flag_display:\n",
    "                print('H[',k+1,'][',k,']=',H[k+1][k])\n",
    "            if (np.abs(H[k+1][k]) > 1e-16):\n",
    "                Q[:,k+1] = y/H[k+1][k]\n",
    "            else:\n",
    "                print('flag_break has been activated')\n",
    "                flag_break=True\n",
    "            # Do you remember e_1? The canonical vector.\n",
    "            e1 = np.zeros((k+1)+1)        \n",
    "            e1[0]=1\n",
    "            H_tilde=H[0:(k+1)+1,0:k+1]\n",
    "        else:\n",
    "            H_tilde=H[0:k+1,0:k+1]\n",
    "        # Solving the 'SMALL' least square problem. \n",
    "        # This could be improved with Givens rotations!\n",
    "        ck = np.linalg.lstsq(H_tilde, nr0*e1,rcond=None)[0] \n",
    "        if k+1<n:\n",
    "            x = x0 + np.dot(Q[:,0:(k+1)], ck)\n",
    "        else:\n",
    "            x = x0 + np.dot(Q, ck)\n",
    "        # Why is 'norm_small' equal to 'norm_full'?\n",
    "        norm_small=np.linalg.norm(np.dot(H_tilde,ck)-nr0*e1)\n",
    "        out_res = np.append(out_res,norm_small)\n",
    "        if flag_display:\n",
    "            norm_full=np.linalg.norm(b-np.dot(A,x))\n",
    "            print(r'..........||b-A\\,x_k||=',norm_full)\n",
    "            print(r'..........||H_k\\,c_k-nr0*e1||',norm_small);\n",
    "        if flag_break:\n",
    "            if flag_display: \n",
    "                print('EXIT: flag_break=True')\n",
    "            break\n",
    "        if norm_small<threshold:\n",
    "            if flag_display:\n",
    "                print('EXIT: norm_small<threshold')\n",
    "            break\n",
    "    return x, out_res\n",
    "\n",
    "x0 = np.zeros(N)\n",
    "x_our, _ = GMRes(A,b,x0)\n"
   ]
  },
  {
   "cell_type": "markdown",
   "id": "86326452",
   "metadata": {},
   "source": []
  },
  {
   "cell_type": "markdown",
   "id": "577f7db7",
   "metadata": {},
   "source": [
    "# GMRes con HouseHolder"
   ]
  },
  {
   "cell_type": "code",
   "execution_count": null,
   "id": "36adef90",
   "metadata": {},
   "outputs": [
    {
     "name": "stdout",
     "output_type": "stream",
     "text": [
      "vec3:\n",
      " [[ 41.44532053]\n",
      " [ 28.03244524]\n",
      " [139.25720519]]\n",
      "H1:\n",
      " [[-0.47442111 -0.07969844 -0.87668282]\n",
      " [-0.07969844  0.99569198 -0.04738826]\n",
      " [-0.87668282 -0.04738826  0.47872913]]\n",
      "H2:\n",
      " [[ 1.          0.          0.        ]\n",
      " [ 0.         -0.91115286  0.41206853]\n",
      " [ 0.          0.41206853  0.91115286]]\n",
      "H3 :\n",
      " [[1. 0. 0.]\n",
      " [0. 1. 0.]\n",
      " [0. 0. 1.]]\n",
      "Matriz Q:\n",
      "[[-0.47442111 -0.07969844 -0.87668282]\n",
      " [-0.28863594 -0.9267548   0.24044716]\n",
      " [-0.83163328  0.36711538  0.41666821]]\n",
      "Matriz de Hessenberg H:\n",
      "[[ 9.84491115  4.07592892  3.51050081]\n",
      " [10.02491681 -9.96307632  4.31010422]\n",
      " [ 2.92895332 -2.47465424 -4.70099837]]\n"
     ]
    }
   ],
   "source": [
    "# householder reflection\n",
    "def householder_reflection(v):\n",
    "    \"\"\"\n",
    "    Devuelve la matriz de reflexión de Householder para un vector v.\n",
    "\n",
    "    Parámetros\n",
    "    ----------\n",
    "    v : ndarray (n,), vector de entrada.\n",
    "\n",
    "    Retorna\n",
    "    -------\n",
    "    H : ndarray (n,n), matriz de reflexión de Householder.\n",
    "    \"\"\"\n",
    "    v = v.reshape(-1, 1)  # Aseguramos que v sea columna\n",
    "    I = np.eye(v.shape[0])\n",
    "    return I - 2 * (v @ v.T) / (v.T @ v)\n",
    "\n",
    "def getHessenbergMatrix(A,b):\n",
    "    \"\"\"\n",
    "    Reduce una matriz A a su forma de Hessenberg utilizando reflexiones de Householder.\n",
    "    Parámetros\n",
    "    ----------\n",
    "    A : ndarray (n,n), matriz de entrada.\n",
    "    b : ndarray (n,), vector de resultados.\n",
    "    Retorna\n",
    "    -------\n",
    "    H : ndarray (n,n), matriz de Hessenberg.\n",
    "    \"\"\"\n",
    "    N = A.shape[0]\n",
    "    e1 = np.zeros((N, 1))\n",
    "    e1[0] = 1\n",
    "    # Primer vector\n",
    "    vec1 = b / np.linalg.norm(b)\n",
    "    alpha1 = -np.sign(b[0]) * np.linalg.norm(b)\n",
    "    u1 = (b - alpha1 * e1) / np.linalg.norm(b - alpha1 * e1)\n",
    "    \n",
    "    #-------------------------------\n",
    "    \n",
    "    # segundo vector\n",
    "    vec2 = A @ vec1\n",
    "    # print(\"vec2:\\n\", vec2)\n",
    "    # 1. Aplicamos las H's anteriores\n",
    "    H1 = householder_reflection(vec1)\n",
    "    aux2 = H1 @ vec2\n",
    "    # quitar el primer elemento de aux2\n",
    "    # print(\"aux2 antes de quitar el elemento\\n\",aux2)\n",
    "    aux2 = aux2[1:]\n",
    "    # print(\"aux2 despues de quitar el elemtno\\n\",aux2)\n",
    "    alpha_2 = -np.sign(aux2[0]) * np.linalg.norm(aux2)\n",
    "    u2 = (aux2 - alpha_2 * e1[:-1]) / np.linalg.norm(aux2 - alpha_2 * e1[:-1])\n",
    "    # print(\"u2:\\n\", u2)\n",
    "\n",
    "    #-------------------------------\n",
    "    # tercer vector\n",
    "    vec3 = A @ vec2\n",
    "    print(\"vec3:\\n\", vec3)\n",
    "    # 1. Aplicamos las H's anteriores\n",
    "    H2_hat = householder_reflection(u2)\n",
    "    H2 = np.block([\n",
    "    [np.ones((1,1)), np.zeros((1, H2_hat.shape[1]))],\n",
    "    [np.zeros((H2_hat.shape[0], 1)), H2_hat]])\n",
    "    # print(\"H1:\")\n",
    "    # print(H1)\n",
    "    # print(\"H2:\")\n",
    "    # print(H2)\n",
    "    aux3 = H2 @ H1 @ vec3\n",
    "    # quitar los primer 2 elementos de aux\n",
    "    aux3 = aux3[2:]\n",
    "    alpha_3 = -np.sign(aux3[0]) * np.linalg.norm(aux3)\n",
    "    u3 = (aux3 - alpha_3 * e1[:-2]) / np.linalg.norm(aux3 - alpha_3 * e1[:-2])\n",
    "    # u3 = np.vstack(([[0.],[0.]], u3))\n",
    "\n",
    "    #--------------------------------\n",
    "    # matriz de Hessenberg\n",
    "    # print(\"u3:\\n\", u3)\n",
    "    # H3_hat = householder_reflection(u3)\n",
    "    # print(\"H3_hat:\\n\", H3_hat)\n",
    "    H3 = np.block([\n",
    "    [np.eye(2), np.zeros((2,1))],\n",
    "    [np.zeros((1,2)), u3]\n",
    "    ])\n",
    "    print(\"H1:\\n\", H1)\n",
    "    print(\"H2:\\n\", H2)\n",
    "    print(\"H3 :\\n\", H3)\n",
    "    Q = H3 @ H2 @ H1\n",
    "    Hessenberg = Q @ A\n",
    "\n",
    "    u_vectors = [u1, u2, u3]\n",
    "\n",
    "    return Q, Hessenberg, u_vectors\n",
    "\n",
    "Q, H, u_vectors = getHessenbergMatrix(A,b)\n",
    "\n",
    "print(\"Matriz Q:\")\n",
    "print(Q)\n",
    "print(\"Matriz de Hessenberg H:\")\n",
    "print(H)\n"
   ]
  },
  {
   "cell_type": "markdown",
   "id": "67f72b51",
   "metadata": {},
   "source": [
    "# Debuggeando a lo primitivo"
   ]
  },
  {
   "cell_type": "markdown",
   "id": "4c240aba",
   "metadata": {},
   "source": [
    "1. **¿Q es unitaria?**"
   ]
  },
  {
   "cell_type": "code",
   "execution_count": 5,
   "id": "c8590356",
   "metadata": {},
   "outputs": [
    {
     "name": "stdout",
     "output_type": "stream",
     "text": [
      "8.326672684688674e-17\n",
      "1.734723475976807e-16\n",
      "0.0\n"
     ]
    }
   ],
   "source": [
    "print(np.dot(Q[0],Q[1]))\n",
    "print(np.dot(Q[0],Q[2]))\n",
    "print(np.dot(Q[1],Q[2]))"
   ]
  },
  {
   "cell_type": "markdown",
   "id": "2026abd3",
   "metadata": {},
   "source": [
    "Sí, $Q$ es unitaria\n",
    "\n",
    "---\n",
    "\n",
    "**2. Construcción del primer vector de Hessenberg**\n",
    "\n",
    "\n"
   ]
  },
  {
   "cell_type": "code",
   "execution_count": 12,
   "id": "0dd4b143",
   "metadata": {},
   "outputs": [],
   "source": [
    "u1, u2, u3 = u_vectors"
   ]
  },
  {
   "cell_type": "code",
   "execution_count": 13,
   "id": "2ebf683c",
   "metadata": {},
   "outputs": [
    {
     "name": "stdout",
     "output_type": "stream",
     "text": [
      "vec1:\n",
      " [[0.85860966]\n",
      " [0.04641133]\n",
      " [0.51052466]]\n",
      "H1 @ vec1:\n",
      " [[-1.00000000e+00]\n",
      " [-8.67361738e-18]\n",
      " [-5.55111512e-17]]\n"
     ]
    }
   ],
   "source": [
    "vec1 = b / np.linalg.norm(b)\n",
    "print(\"vec1:\\n\", vec1)\n",
    "H1 = householder_reflection(u1)\n",
    "print(\"H1 @ vec1:\\n\", H1 @ vec1)"
   ]
  },
  {
   "cell_type": "markdown",
   "id": "8a5645af",
   "metadata": {},
   "source": [
    "funciona 👌\n",
    "\n",
    "3. segundo vector"
   ]
  },
  {
   "cell_type": "code",
   "execution_count": 19,
   "id": "3593a5f3",
   "metadata": {},
   "outputs": [
    {
     "name": "stdout",
     "output_type": "stream",
     "text": [
      "vector 2:\n",
      " [[ -7.93633797]\n",
      " [-10.4193443 ]\n",
      " [ -6.66002631]]\n",
      "H2_hat:\n",
      " [[-0.91115286  0.41206853]\n",
      " [ 0.41206853  0.91115286]]\n",
      "H2:\n",
      " [[ 1.          0.          0.        ]\n",
      " [ 0.         -0.91115286  0.41206853]\n",
      " [ 0.          0.41206853  0.91115286]]\n",
      "H2 @ H1 @ vec2:\n",
      " [[10.69789984]\n",
      " [ 8.43441501]\n",
      " [-5.50633535]]\n"
     ]
    }
   ],
   "source": [
    "vec2 = A @ vec1\n",
    "print(\"vector 2:\\n\", vec2)\n",
    "H2_hat = householder_reflection(u2)\n",
    "print(\"H2_hat:\\n\", H2_hat)\n",
    "# hay que agregarle la idententida para que sea 3x3\n",
    "H2 = np.block([\n",
    "    [np.ones((1,1)), np.zeros((1, H2_hat.shape[1]))],\n",
    "    [np.zeros((H2_hat.shape[0], 1)), H2_hat]])\n",
    "print(\"H2:\\n\",H2)\n",
    "print(\"H2 @ H1 @ vec2:\\n\",  H2 @ H1 @ vec2)"
   ]
  },
  {
   "cell_type": "markdown",
   "id": "00a867b1",
   "metadata": {},
   "source": [
    "🫠😭🫠"
   ]
  }
 ],
 "metadata": {
  "kernelspec": {
   "display_name": "base",
   "language": "python",
   "name": "python3"
  },
  "language_info": {
   "codemirror_mode": {
    "name": "ipython",
    "version": 3
   },
   "file_extension": ".py",
   "mimetype": "text/x-python",
   "name": "python",
   "nbconvert_exporter": "python",
   "pygments_lexer": "ipython3",
   "version": "3.12.3"
  }
 },
 "nbformat": 4,
 "nbformat_minor": 5
}
