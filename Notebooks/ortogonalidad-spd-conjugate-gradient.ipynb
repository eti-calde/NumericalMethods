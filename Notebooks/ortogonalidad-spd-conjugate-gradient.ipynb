{
 "cells": [
  {
   "cell_type": "code",
   "execution_count": 99,
   "id": "39881435",
   "metadata": {},
   "outputs": [],
   "source": [
    "import numpy as np\n",
    "from scipy.sparse.linalg import cg\n",
    "\n",
    "def conjugate_gradient(A, b, x0, tol=1e-6, max_iter=1000):\n",
    "    \"\"\"\n",
    "    Solves Ax = b using the Conjugate Gradient method.\n",
    "\n",
    "    Args:\n",
    "        A (np.ndarray): The symmetric, positive-definite matrix.\n",
    "        b (np.ndarray): The right-hand side vector.\n",
    "        x0 (np.ndarray): The initial guess for the solution.\n",
    "        tol (float): The tolerance for convergence.\n",
    "        max_iter (int): The maximum number of iterations.\n",
    "\n",
    "    Returns:\n",
    "        np.ndarray: The approximate solution x.\n",
    "    \"\"\"\n",
    "    x = x0.copy()\n",
    "    r = b - A @ x  # Initial residual\n",
    "    p = r.copy()    # Initial search direction\n",
    "    residuals = [r.copy()]\n",
    "    directions = [p.copy()]\n",
    "    rs_old = np.dot(r, r)\n",
    "\n",
    "    for i in range(max_iter):\n",
    "        Ap = A @ p\n",
    "        alpha = rs_old / np.dot(p, Ap)\n",
    "        x = x + alpha * p\n",
    "        r = r - alpha * Ap\n",
    "        rs_new = np.dot(r, r)\n",
    "        if np.sqrt(rs_new) < tol:\n",
    "            print(f\"Converged in {i+1} iterations.\")\n",
    "            break\n",
    "\n",
    "        beta = rs_new / rs_old\n",
    "        p = r + beta * p\n",
    "        residuals.append(r)\n",
    "        directions.append(p)\n",
    "        rs_old = rs_new\n",
    "    else:\n",
    "        print(f\"Did not converge within {max_iter} iterations.\")\n",
    "\n",
    "    return x, directions, np.vstack(residuals)"
   ]
  },
  {
   "cell_type": "code",
   "execution_count": null,
   "id": "8c851f4d",
   "metadata": {},
   "outputs": [],
   "source": [
    "def spd_from_gram(n, eps=1e-6, rng=None):\n",
    "    rng = np.random.default_rng(rng)\n",
    "    B = rng.normal(size=(n, n))\n",
    "    A = B.T @ B\n",
    "    A += eps * np.eye(n)       \n",
    "    return B,A # Matriz no SPD, Matriz SPD\n"
   ]
  },
  {
   "cell_type": "code",
   "execution_count": 104,
   "id": "dfa91860",
   "metadata": {},
   "outputs": [
    {
     "name": "stdout",
     "output_type": "stream",
     "text": [
      "Converged in 3 iterations.\n"
     ]
    }
   ],
   "source": [
    "n = 3\n",
    "A_tilde, A = spd_from_gram(3)\n",
    "b = np.array([-1, -0.5, -1 ])\n",
    "x, d, r = conjugate_gradient(A, b, [0,0,0])"
   ]
  },
  {
   "cell_type": "code",
   "execution_count": 117,
   "id": "60ccd93e",
   "metadata": {},
   "outputs": [
    {
     "data": {
      "text/plain": [
       "array([-2.22044605e-16, -2.22044605e-16, -2.22044605e-16])"
      ]
     },
     "execution_count": 117,
     "metadata": {},
     "output_type": "execute_result"
    }
   ],
   "source": [
    "A@x - b"
   ]
  },
  {
   "cell_type": "code",
   "execution_count": 116,
   "id": "db9d063b",
   "metadata": {},
   "outputs": [
    {
     "data": {
      "text/plain": [
       "array([[2.25000000e+00, 1.11022302e-16, 6.24500451e-17],\n",
       "       [1.11022302e-16, 2.96703680e-02, 2.16418887e-18],\n",
       "       [6.24500451e-17, 2.16418887e-18, 1.94002299e-03]])"
      ]
     },
     "execution_count": 116,
     "metadata": {},
     "output_type": "execute_result"
    }
   ],
   "source": [
    "r@r.T"
   ]
  },
  {
   "cell_type": "code",
   "execution_count": null,
   "id": "8c3bed66",
   "metadata": {},
   "outputs": [
    {
     "data": {
      "text/plain": [
       "1.801701612083672e-16"
      ]
     },
     "execution_count": 113,
     "metadata": {},
     "output_type": "execute_result"
    }
   ],
   "source": [
    "np.linalg.norm(r @ r.T - np.diag(np.diag(r @ r.T))) "
   ]
  },
  {
   "cell_type": "code",
   "execution_count": null,
   "id": "bff7b651",
   "metadata": {},
   "outputs": [
    {
     "name": "stdout",
     "output_type": "stream",
     "text": [
      "Did not converge within 1000 iterations.\n"
     ]
    },
    {
     "data": {
      "text/plain": [
       "array([ -5664124.44535529, -13123559.76465118,   9079693.26388094])"
      ]
     },
     "execution_count": 118,
     "metadata": {},
     "output_type": "execute_result"
    }
   ],
   "source": [
    "x, d, r = conjugate_gradient(A_tilde, b, [0,0,0]) # No da output ya que no converge luego de max_iters\n",
    "A @ cg(A_tilde, b, [0,0,0])[0] - b # función de scipy retorna una mal solución."
   ]
  },
  {
   "cell_type": "code",
   "execution_count": 126,
   "id": "d2375c76",
   "metadata": {},
   "outputs": [
    {
     "name": "stdout",
     "output_type": "stream",
     "text": [
      "Did not converge within 1000 iterations.\n"
     ]
    },
    {
     "data": {
      "text/plain": [
       "array([-4.74753662e+13,  4.86343332e+13,  4.58657682e+13])"
      ]
     },
     "execution_count": 126,
     "metadata": {},
     "output_type": "execute_result"
    }
   ],
   "source": [
    "# La idea es correr el algoritmo fuera de la función, permitiendo almacenar los residuos y direcciones.\n",
    "A = A_tilde; b = b; x0 = [0,0,0]; max_iter = 1000; tol=1e-6\n",
    "\n",
    "x = x0.copy()\n",
    "r = b - A @ x  # Initial residual\n",
    "p = r.copy()    # Initial search direction\n",
    "residuals = [r.copy()]\n",
    "directions = [p.copy()]\n",
    "rs_old = np.dot(r, r)\n",
    "\n",
    "for i in range(max_iter):\n",
    "    Ap = A @ p\n",
    "    alpha = rs_old / np.dot(p, Ap)\n",
    "    x = x + alpha * p\n",
    "    r = r - alpha * Ap\n",
    "    rs_new = np.dot(r, r)\n",
    "    if np.sqrt(rs_new) < tol:\n",
    "        print(f\"Converged in {i+1} iterations.\")\n",
    "        break\n",
    "\n",
    "    beta = rs_new / rs_old\n",
    "    p = r + beta * p\n",
    "    residuals.append(r)\n",
    "    directions.append(p)\n",
    "    rs_old = rs_new\n",
    "else:\n",
    "    print(f\"Did not converge within {max_iter} iterations.\")\n",
    "\n",
    "A@x - b"
   ]
  },
  {
   "cell_type": "code",
   "execution_count": 121,
   "id": "1d8a3d27",
   "metadata": {},
   "outputs": [],
   "source": [
    "o = np.vstack(residuals) @ np.vstack(residuals).T"
   ]
  },
  {
   "cell_type": "code",
   "execution_count": 122,
   "id": "f25dbcc2",
   "metadata": {},
   "outputs": [
    {
     "data": {
      "text/plain": [
       "array([[ 0.00000000e+00, -1.11022302e-16,  8.83738020e+00, ...,\n",
       "         2.24918939e+13,  2.25995284e+13,  2.27075686e+13],\n",
       "       [-1.11022302e-16,  0.00000000e+00, -2.52781610e+00, ...,\n",
       "        -8.50182150e+12, -8.54250680e+12, -8.58334542e+12],\n",
       "       [ 8.83738020e+00, -2.52781610e+00,  0.00000000e+00, ...,\n",
       "         2.58950230e+15,  2.60189431e+15,  2.61433302e+15],\n",
       "       ...,\n",
       "       [ 2.24918939e+13, -8.50182150e+12,  2.58950230e+15, ...,\n",
       "         0.00000000e+00,  6.62734120e+27,  6.65902411e+27],\n",
       "       [ 2.25995284e+13, -8.54250680e+12,  2.60189431e+15, ...,\n",
       "         6.62734120e+27,  0.00000000e+00,  6.69089074e+27],\n",
       "       [ 2.27075686e+13, -8.58334542e+12,  2.61433302e+15, ...,\n",
       "         6.65902411e+27,  6.69089074e+27,  0.00000000e+00]])"
      ]
     },
     "execution_count": 122,
     "metadata": {},
     "output_type": "execute_result"
    }
   ],
   "source": [
    "o - np.diag(np.diag(o))"
   ]
  },
  {
   "cell_type": "code",
   "execution_count": 124,
   "id": "5255a8da",
   "metadata": {},
   "outputs": [
    {
     "data": {
      "text/plain": [
       "6.399433456017062e+29"
      ]
     },
     "execution_count": 124,
     "metadata": {},
     "output_type": "execute_result"
    }
   ],
   "source": [
    "np.linalg.norm(o - np.diag(np.diag(o)))"
   ]
  }
 ],
 "metadata": {
  "kernelspec": {
   "display_name": "Python 3",
   "language": "python",
   "name": "python3"
  },
  "language_info": {
   "codemirror_mode": {
    "name": "ipython",
    "version": 3
   },
   "file_extension": ".py",
   "mimetype": "text/x-python",
   "name": "python",
   "nbconvert_exporter": "python",
   "pygments_lexer": "ipython3",
   "version": "3.10.18"
  }
 },
 "nbformat": 4,
 "nbformat_minor": 5
}
