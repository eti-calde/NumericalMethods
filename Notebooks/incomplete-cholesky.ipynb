{
 "cells": [
  {
   "cell_type": "code",
   "execution_count": 5,
   "id": "953d8054",
   "metadata": {},
   "outputs": [],
   "source": [
    "import numpy as np\n",
    "import scipy.sparse as sp\n"
   ]
  },
  {
   "cell_type": "code",
   "execution_count": 20,
   "id": "da9e0274",
   "metadata": {},
   "outputs": [],
   "source": [
    "# construcción de una matriz sparse simetrica y definida positiva.\n",
    "\n",
    "def construir_spd_densa(n,densidad):\n",
    "    A = sp.random_array((n,n),density=densidad, format='csr', dtype=float) \n",
    "    tau = 1e-2\n",
    "    return (A.T @ A) + tau * sp.eye(n, format='csr').toarray()\n",
    "def nnz_lower(M, tol=1e-14):\n",
    "    Ml = np.tril(M)\n",
    "    return int(np.count_nonzero(np.abs(Ml) > tol))\n",
    "tol = 1e-14\n",
    "def cholesky_in(A):\n",
    "    n = A.shape[0]\n",
    "    L = np.zeros_like(A)\n",
    "\n",
    "    for i in range(n):\n",
    "        for j in range(i+1):\n",
    "      \n",
    "            if j < i and A[i, j] == 0:\n",
    "                L[i, j] = 0.0  \n",
    "                continue\n",
    "            s = 0.0\n",
    "            for k in range(j):\n",
    "                s += L[i, k] * L[j, k]\n",
    "            if i == j:\n",
    "\n",
    "                L[i, j] = (A[i, i] - s) ** 0.5\n",
    "            else:\n",
    "                L[i, j] = (A[i, j] - s) / L[j, j]\n",
    "\n",
    "    return L\n",
    "def cholesky(A):\n",
    "    n = A.shape[0]\n",
    "    L = np.zeros_like(A)\n",
    "    for i in range(n):\n",
    "        for j in range(i+1):\n",
    "            s = 0\n",
    "            for k in range(j):\n",
    "                s += L[i][k] * L[j][k]\n",
    "\n",
    "            if (i == j):\n",
    "                L[i][j] = (A[i][i] - s) ** 0.5\n",
    "            else:\n",
    "                L[i][j] = (1.0 / L[j][j] * (A[i][j] - s))\n",
    "    return L"
   ]
  },
  {
   "cell_type": "code",
   "execution_count": 21,
   "id": "5c29a269",
   "metadata": {},
   "outputs": [
    {
     "data": {
      "text/plain": [
       "array([[0.70837797, 1.0609201 , 0.        , 0.24837538, 0.        ],\n",
       "       [1.0609201 , 1.904666  , 0.25109846, 0.33166573, 0.        ],\n",
       "       [0.        , 0.25109846, 0.85759625, 0.        , 0.        ],\n",
       "       [0.24837538, 0.33166573, 0.        , 0.17550119, 0.        ],\n",
       "       [0.        , 0.        , 0.        , 0.        , 0.01      ]])"
      ]
     },
     "execution_count": 21,
     "metadata": {},
     "output_type": "execute_result"
    }
   ],
   "source": [
    "B = construir_spd_densa(5,0.5)\n",
    "B"
   ]
  },
  {
   "cell_type": "code",
   "execution_count": 22,
   "id": "cecaea91",
   "metadata": {},
   "outputs": [
    {
     "data": {
      "text/plain": [
       "array([[ 0.84165193,  0.        ,  0.        ,  0.        ,  0.        ],\n",
       "       [ 1.2605212 ,  0.56191842,  0.        ,  0.        ,  0.        ],\n",
       "       [ 0.        ,  0.44685929,  0.81111838,  0.        ,  0.        ],\n",
       "       [ 0.29510463, -0.07175404,  0.03953055,  0.28583761,  0.        ],\n",
       "       [ 0.        ,  0.        ,  0.        ,  0.        ,  0.1       ]])"
      ]
     },
     "execution_count": 22,
     "metadata": {},
     "output_type": "execute_result"
    }
   ],
   "source": [
    "\n",
    "cholb = np.linalg.cholesky(B)\n",
    "cholb"
   ]
  },
  {
   "cell_type": "code",
   "execution_count": 24,
   "id": "135918ea",
   "metadata": {},
   "outputs": [
    {
     "name": "stdout",
     "output_type": "stream",
     "text": [
      "1.571009851008036e-16\n"
     ]
    }
   ],
   "source": [
    "chol = cholesky(B)\n",
    "print(np.linalg.norm( B - chol@chol.T))"
   ]
  },
  {
   "cell_type": "code",
   "execution_count": 25,
   "id": "020adf58",
   "metadata": {},
   "outputs": [
    {
     "name": "stdout",
     "output_type": "stream",
     "text": [
      "0.0453452830900769\n"
     ]
    }
   ],
   "source": [
    "cholb = cholesky_in(B)\n",
    "\n",
    "\n",
    "print(np.linalg.norm( B - cholb@cholb.T))"
   ]
  },
  {
   "cell_type": "code",
   "execution_count": 29,
   "id": "0581a48a",
   "metadata": {},
   "outputs": [
    {
     "name": "stdout",
     "output_type": "stream",
     "text": [
      "[[ 2.23606798  0.          0.          0.          0.        ]\n",
      " [-0.89442719  2.04939015  0.          0.          0.        ]\n",
      " [ 0.         -0.97590007  2.01186954  0.          0.        ]\n",
      " [-0.89442719 -0.39036003 -1.18345267  1.62697843  0.        ]\n",
      " [-0.89442719 -0.39036003 -0.18935243 -1.95237412  0.4472136 ]]\n"
     ]
    },
    {
     "data": {
      "text/plain": [
       "array([[ 2.23606798,  0.        ,  0.        ,  0.        ,  0.        ],\n",
       "       [-0.89442719,  2.04939015,  0.        ,  0.        ,  0.        ],\n",
       "       [ 0.        , -0.97590007,  2.01186954,  0.        ,  0.        ],\n",
       "       [-0.89442719,  0.        , -0.99410024,  1.7921397 ,  0.        ],\n",
       "       [-0.89442719,  0.        ,  0.        , -1.5623782 ,  1.32626331]])"
      ]
     },
     "execution_count": 29,
     "metadata": {},
     "output_type": "execute_result"
    }
   ],
   "source": [
    "A = np.array([\n",
    "    [ 5, -2,  0, -2, -2],\n",
    "    [-2,  5, -2,  0,  0],\n",
    "    [ 0, -2,  5, -2,  0],\n",
    "    [-2,  0, -2,  5, -2],\n",
    "    [-2,  0,  0, -2,  5]\n",
    "], dtype=float) \n",
    "print(np.linalg.cholesky(A))\n",
    "cholesky_in(A)\n"
   ]
  },
  {
   "cell_type": "code",
   "execution_count": null,
   "id": "5cc9a1a4",
   "metadata": {},
   "outputs": [
    {
     "name": "stdout",
     "output_type": "stream",
     "text": [
      "nnz_lower(B) = 125250\n",
      "nnz_lower(L) = 125250\n",
      "fill-in abs  = 0\n"
     ]
    }
   ],
   "source": [
    "B = construir_spd_densa(500,0.5)\n",
    "cholb = np.linalg.cholesky(B)\n",
    "print(\"nnz_lower(B) =\", nnz_lower(B))\n",
    "print(\"nnz_lower(L) =\", nnz_lower(cholb))\n",
    "print(\"fill-in abs  =\", nnz_lower(cholb, tol) - nnz_lower(B, tol))"
   ]
  },
  {
   "cell_type": "code",
   "execution_count": 27,
   "id": "edf9ad09",
   "metadata": {},
   "outputs": [
    {
     "name": "stdout",
     "output_type": "stream",
     "text": [
      "5 0.1\n",
      "nnz_lower(B) = 5\n",
      "nnz_lower(L) = 5\n",
      "fill-in abs  = 0\n",
      "\n",
      "5 0.2\n",
      "nnz_lower(B) = 7\n",
      "nnz_lower(L) = 7\n",
      "fill-in abs  = 0\n",
      "\n",
      "5 0.3\n",
      "nnz_lower(B) = 10\n",
      "nnz_lower(L) = 11\n",
      "fill-in abs  = 1\n",
      "\n",
      "5 0.4\n",
      "nnz_lower(B) = 11\n",
      "nnz_lower(L) = 13\n",
      "fill-in abs  = 2\n",
      "\n",
      "5 0.5\n",
      "nnz_lower(B) = 13\n",
      "nnz_lower(L) = 13\n",
      "fill-in abs  = 0\n",
      "\n",
      "10 0.1\n",
      "nnz_lower(B) = 13\n",
      "nnz_lower(L) = 13\n",
      "fill-in abs  = 0\n",
      "\n",
      "10 0.2\n",
      "nnz_lower(B) = 28\n",
      "nnz_lower(L) = 32\n",
      "fill-in abs  = 4\n",
      "\n",
      "10 0.3\n",
      "nnz_lower(B) = 36\n",
      "nnz_lower(L) = 43\n",
      "fill-in abs  = 7\n",
      "\n",
      "10 0.4\n",
      "nnz_lower(B) = 50\n",
      "nnz_lower(L) = 54\n",
      "fill-in abs  = 4\n",
      "\n",
      "10 0.5\n",
      "nnz_lower(B) = 51\n",
      "nnz_lower(L) = 55\n",
      "fill-in abs  = 4\n",
      "\n",
      "50 0.1\n",
      "nnz_lower(B) = 533\n",
      "nnz_lower(L) = 1130\n",
      "fill-in abs  = 597\n",
      "\n",
      "50 0.2\n",
      "nnz_lower(B) = 1147\n",
      "nnz_lower(L) = 1266\n",
      "fill-in abs  = 119\n",
      "\n",
      "50 0.3\n",
      "nnz_lower(B) = 1259\n",
      "nnz_lower(L) = 1267\n",
      "fill-in abs  = 8\n",
      "\n",
      "50 0.4\n",
      "nnz_lower(B) = 1275\n",
      "nnz_lower(L) = 1275\n",
      "fill-in abs  = 0\n",
      "\n",
      "50 0.5\n",
      "nnz_lower(B) = 1275\n",
      "nnz_lower(L) = 1275\n",
      "fill-in abs  = 0\n",
      "\n",
      "80 0.1\n",
      "nnz_lower(B) = 1840\n",
      "nnz_lower(L) = 3147\n",
      "fill-in abs  = 1307\n",
      "\n",
      "80 0.2\n",
      "nnz_lower(B) = 3100\n",
      "nnz_lower(L) = 3237\n",
      "fill-in abs  = 137\n",
      "\n",
      "80 0.3\n",
      "nnz_lower(B) = 3239\n",
      "nnz_lower(L) = 3240\n",
      "fill-in abs  = 1\n",
      "\n",
      "80 0.4\n",
      "nnz_lower(B) = 3240\n",
      "nnz_lower(L) = 3240\n",
      "fill-in abs  = 0\n",
      "\n",
      "80 0.5\n",
      "nnz_lower(B) = 3240\n",
      "nnz_lower(L) = 3240\n",
      "fill-in abs  = 0\n",
      "\n",
      "100 0.1\n",
      "nnz_lower(B) = 3279\n",
      "nnz_lower(L) = 4952\n",
      "fill-in abs  = 1673\n",
      "\n",
      "100 0.2\n",
      "nnz_lower(B) = 4976\n",
      "nnz_lower(L) = 5050\n",
      "fill-in abs  = 74\n",
      "\n",
      "100 0.3\n",
      "nnz_lower(B) = 5050\n",
      "nnz_lower(L) = 5050\n",
      "fill-in abs  = 0\n",
      "\n",
      "100 0.4\n",
      "nnz_lower(B) = 5050\n",
      "nnz_lower(L) = 5050\n",
      "fill-in abs  = 0\n",
      "\n",
      "100 0.5\n",
      "nnz_lower(B) = 5050\n",
      "nnz_lower(L) = 5050\n",
      "fill-in abs  = 0\n",
      "\n"
     ]
    }
   ],
   "source": [
    "for n in [5,10,50,80,100]:\n",
    "    for d in [0.1,0.2,0.3,0.4, 0.5]:\n",
    "        print(n,d)\n",
    "        B = construir_spd_densa(n,d)\n",
    "        cholb = np.linalg.cholesky(B)\n",
    "        nnz_lower(cholb, tol) - nnz_lower(B, tol)\n",
    "        print(\"nnz_lower(B) =\", nnz_lower(B))\n",
    "        print(\"nnz_lower(L) =\", nnz_lower(cholb))\n",
    "        print(\"fill-in abs  =\", nnz_lower(cholb, tol) - nnz_lower(B, tol))\n",
    "        print()"
   ]
  },
  {
   "cell_type": "code",
   "execution_count": null,
   "id": "41437fe5",
   "metadata": {},
   "outputs": [],
   "source": [
    "# todo graficos de los nnz\n",
    "# todo verificar con matriz de wikpedia"
   ]
  },
  {
   "cell_type": "code",
   "execution_count": null,
   "id": "13d05073",
   "metadata": {},
   "outputs": [],
   "source": []
  }
 ],
 "metadata": {
  "kernelspec": {
   "display_name": "Python 3",
   "language": "python",
   "name": "python3"
  },
  "language_info": {
   "codemirror_mode": {
    "name": "ipython",
    "version": 3
   },
   "file_extension": ".py",
   "mimetype": "text/x-python",
   "name": "python",
   "nbconvert_exporter": "python",
   "pygments_lexer": "ipython3",
   "version": "3.10.11"
  }
 },
 "nbformat": 4,
 "nbformat_minor": 5
}
