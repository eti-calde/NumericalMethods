{
 "cells": [
  {
   "cell_type": "code",
   "execution_count": 1,
   "id": "953d8054",
   "metadata": {},
   "outputs": [],
   "source": [
    "import numpy as np\n",
    "import scipy.sparse as sp\n"
   ]
  },
  {
   "cell_type": "code",
   "execution_count": null,
   "id": "da9e0274",
   "metadata": {},
   "outputs": [],
   "source": [
    "# construcción de una matriz sparse simetrica y definida positiva.\n",
    "\n",
    "def construir_spd_densa(n,densidad):\n",
    "    \n",
    "    A = sp.random_array((n,n),density=densidad, format='csr', dtype=float) \n",
    "    tau = 1e-2\n",
    "    return (A.T @ A) + tau * sp.eye(n, format='csr').toarray()\n",
    "def nnz_tril(M, tol=1e-14):\n",
    "    Ml = np.tril(M)\n",
    "    return int(np.count_nonzero(np.abs(Ml) > tol))\n",
    "tol = 1e-14\n",
    "def cholesky_in(A):\n",
    "    n = A.shape[0]\n",
    "    L = np.zeros_like(A)\n",
    "\n",
    "    for i in range(n):\n",
    "        for j in range(i+1):\n",
    "      \n",
    "            if j < i and A[i, j] == 0:\n",
    "                L[i, j] = 0.0  \n",
    "                continue\n",
    "            s = 0.0\n",
    "            for k in range(j):\n",
    "                s += L[i, k] * L[j, k]\n",
    "            if i == j:\n",
    "\n",
    "                L[i, j] = (A[i, i] - s) ** 0.5\n",
    "            else:\n",
    "                L[i, j] = (A[i, j] - s) / L[j, j]\n",
    "\n",
    "    return L\n",
    "def cholesky(A):\n",
    "    n = A.shape[0]\n",
    "    L = np.zeros_like(A)\n",
    "    for i in range(n):\n",
    "        for j in range(i+1):\n",
    "            s = 0\n",
    "            for k in range(j):\n",
    "                s += L[i][k] * L[j][k]\n",
    "\n",
    "            if (i == j):\n",
    "                L[i][j] = (A[i][i] - s) ** 0.5\n",
    "            else:\n",
    "                L[i][j] = (1.0 / L[j][j] * (A[i][j] - s))\n",
    "    return L"
   ]
  },
  {
   "cell_type": "code",
   "execution_count": 3,
   "id": "5c29a269",
   "metadata": {},
   "outputs": [
    {
     "data": {
      "text/plain": [
       "array([[1.31789569, 0.07872083, 0.85380587, 0.12476937, 0.        ],\n",
       "       [0.07872083, 0.2039306 , 0.26935018, 0.29152334, 0.07802919],\n",
       "       [0.85380587, 0.26935018, 1.338741  , 0.42690926, 0.        ],\n",
       "       [0.12476937, 0.29152334, 0.42690926, 0.46801522, 0.0199212 ],\n",
       "       [0.        , 0.07802919, 0.        , 0.0199212 , 0.52190271]])"
      ]
     },
     "execution_count": 3,
     "metadata": {},
     "output_type": "execute_result"
    }
   ],
   "source": [
    "B = construir_spd_densa(5,0.5)\n",
    "B"
   ]
  },
  {
   "cell_type": "code",
   "execution_count": 4,
   "id": "cecaea91",
   "metadata": {},
   "outputs": [
    {
     "data": {
      "text/plain": [
       "array([[ 1.14799638,  0.        ,  0.        ,  0.        ,  0.        ],\n",
       "       [ 0.06857237,  0.44635012,  0.        ,  0.        ,  0.        ],\n",
       "       [ 0.74373568,  0.489191  ,  0.7391146 ,  0.        ,  0.        ],\n",
       "       [ 0.10868446,  0.63642996,  0.04700345,  0.22124757,  0.        ],\n",
       "       [ 0.        ,  0.17481611, -0.11570393, -0.38824618,  0.57203106]])"
      ]
     },
     "execution_count": 4,
     "metadata": {},
     "output_type": "execute_result"
    }
   ],
   "source": [
    "\n",
    "cholb = np.linalg.cholesky(B)\n",
    "cholb"
   ]
  },
  {
   "cell_type": "code",
   "execution_count": 5,
   "id": "135918ea",
   "metadata": {},
   "outputs": [
    {
     "name": "stdout",
     "output_type": "stream",
     "text": [
      "2.2214987429400557e-16\n"
     ]
    }
   ],
   "source": [
    "chol = cholesky(B)\n",
    "print(np.linalg.norm( B - chol@chol.T))"
   ]
  },
  {
   "cell_type": "code",
   "execution_count": 6,
   "id": "020adf58",
   "metadata": {},
   "outputs": [
    {
     "name": "stdout",
     "output_type": "stream",
     "text": [
      "0.12094137600656298\n"
     ]
    }
   ],
   "source": [
    "cholb = cholesky_in(B)\n",
    "\n",
    "\n",
    "print(np.linalg.norm( B - cholb@cholb.T))"
   ]
  },
  {
   "cell_type": "code",
   "execution_count": 7,
   "id": "0581a48a",
   "metadata": {},
   "outputs": [
    {
     "name": "stdout",
     "output_type": "stream",
     "text": [
      "[[ 2.23606798  0.          0.          0.          0.        ]\n",
      " [-0.89442719  2.04939015  0.          0.          0.        ]\n",
      " [ 0.         -0.97590007  2.01186954  0.          0.        ]\n",
      " [-0.89442719 -0.39036003 -1.18345267  1.62697843  0.        ]\n",
      " [-0.89442719 -0.39036003 -0.18935243 -1.95237412  0.4472136 ]]\n"
     ]
    },
    {
     "data": {
      "text/plain": [
       "array([[ 2.23606798,  0.        ,  0.        ,  0.        ,  0.        ],\n",
       "       [-0.89442719,  2.04939015,  0.        ,  0.        ,  0.        ],\n",
       "       [ 0.        , -0.97590007,  2.01186954,  0.        ,  0.        ],\n",
       "       [-0.89442719,  0.        , -0.99410024,  1.7921397 ,  0.        ],\n",
       "       [-0.89442719,  0.        ,  0.        , -1.5623782 ,  1.32626331]])"
      ]
     },
     "execution_count": 7,
     "metadata": {},
     "output_type": "execute_result"
    }
   ],
   "source": [
    "A = np.array([\n",
    "    [ 5, -2,  0, -2, -2],\n",
    "    [-2,  5, -2,  0,  0],\n",
    "    [ 0, -2,  5, -2,  0],\n",
    "    [-2,  0, -2,  5, -2],\n",
    "    [-2,  0,  0, -2,  5]\n",
    "], dtype=float) \n",
    "print(np.linalg.cholesky(A))\n",
    "cholesky_in(A)\n"
   ]
  },
  {
   "cell_type": "code",
   "execution_count": 8,
   "id": "5cc9a1a4",
   "metadata": {},
   "outputs": [
    {
     "name": "stdout",
     "output_type": "stream",
     "text": [
      "nnz_tril(B) = 125250\n",
      "nnz_tril(L) = 125250\n",
      "fill-in abs  = 0\n"
     ]
    }
   ],
   "source": [
    "B = construir_spd_densa(500,0.5)\n",
    "cholb = np.linalg.cholesky(B)\n",
    "print(\"nnz_tril(B) =\", nnz_tril(B))\n",
    "print(\"nnz_tril(L) =\", nnz_tril(cholb))\n",
    "print(\"fill-in abs  =\", nnz_tril(cholb, tol) - nnz_tril(B, tol))"
   ]
  },
  {
   "cell_type": "code",
   "execution_count": 9,
   "id": "edf9ad09",
   "metadata": {},
   "outputs": [
    {
     "name": "stdout",
     "output_type": "stream",
     "text": [
      "5 0.1\n",
      "nnz_tril(B) = 5\n",
      "nnz_tril(L) = 5\n",
      "fill-in abs  = 0\n",
      "\n",
      "5 0.2\n",
      "nnz_tril(B) = 5\n",
      "nnz_tril(L) = 5\n",
      "fill-in abs  = 0\n",
      "\n",
      "5 0.3\n",
      "nnz_tril(B) = 9\n",
      "nnz_tril(L) = 9\n",
      "fill-in abs  = 0\n",
      "\n",
      "5 0.4\n",
      "nnz_tril(B) = 10\n",
      "nnz_tril(L) = 10\n",
      "fill-in abs  = 0\n",
      "\n",
      "5 0.5\n",
      "nnz_tril(B) = 13\n",
      "nnz_tril(L) = 13\n",
      "fill-in abs  = 0\n",
      "\n",
      "10 0.1\n",
      "nnz_tril(B) = 12\n",
      "nnz_tril(L) = 12\n",
      "fill-in abs  = 0\n",
      "\n",
      "10 0.2\n",
      "nnz_tril(B) = 26\n",
      "nnz_tril(L) = 30\n",
      "fill-in abs  = 4\n",
      "\n",
      "10 0.3\n",
      "nnz_tril(B) = 33\n",
      "nnz_tril(L) = 43\n",
      "fill-in abs  = 10\n",
      "\n",
      "10 0.4\n",
      "nnz_tril(B) = 49\n",
      "nnz_tril(L) = 54\n",
      "fill-in abs  = 5\n",
      "\n",
      "10 0.5\n",
      "nnz_tril(B) = 55\n",
      "nnz_tril(L) = 55\n",
      "fill-in abs  = 0\n",
      "\n",
      "50 0.1\n",
      "nnz_tril(B) = 523\n",
      "nnz_tril(L) = 1127\n",
      "fill-in abs  = 604\n",
      "\n",
      "50 0.2\n",
      "nnz_tril(B) = 1112\n",
      "nnz_tril(L) = 1274\n",
      "fill-in abs  = 162\n",
      "\n",
      "50 0.3\n",
      "nnz_tril(B) = 1270\n",
      "nnz_tril(L) = 1274\n",
      "fill-in abs  = 4\n",
      "\n",
      "50 0.4\n",
      "nnz_tril(B) = 1275\n",
      "nnz_tril(L) = 1275\n",
      "fill-in abs  = 0\n",
      "\n",
      "50 0.5\n",
      "nnz_tril(B) = 1275\n",
      "nnz_tril(L) = 1275\n",
      "fill-in abs  = 0\n",
      "\n",
      "80 0.1\n",
      "nnz_tril(B) = 1804\n",
      "nnz_tril(L) = 3151\n",
      "fill-in abs  = 1347\n",
      "\n",
      "80 0.2\n",
      "nnz_tril(B) = 3088\n",
      "nnz_tril(L) = 3240\n",
      "fill-in abs  = 152\n",
      "\n",
      "80 0.3\n",
      "nnz_tril(B) = 3239\n",
      "nnz_tril(L) = 3240\n",
      "fill-in abs  = 1\n",
      "\n",
      "80 0.4\n",
      "nnz_tril(B) = 3240\n",
      "nnz_tril(L) = 3240\n",
      "fill-in abs  = 0\n",
      "\n",
      "80 0.5\n",
      "nnz_tril(B) = 3240\n",
      "nnz_tril(L) = 3240\n",
      "fill-in abs  = 0\n",
      "\n",
      "100 0.1\n",
      "nnz_tril(B) = 3166\n",
      "nnz_tril(L) = 4965\n",
      "fill-in abs  = 1799\n",
      "\n",
      "100 0.2\n",
      "nnz_tril(B) = 4979\n",
      "nnz_tril(L) = 5049\n",
      "fill-in abs  = 70\n",
      "\n",
      "100 0.3\n",
      "nnz_tril(B) = 5050\n",
      "nnz_tril(L) = 5050\n",
      "fill-in abs  = 0\n",
      "\n",
      "100 0.4\n",
      "nnz_tril(B) = 5050\n",
      "nnz_tril(L) = 5050\n",
      "fill-in abs  = 0\n",
      "\n",
      "100 0.5\n",
      "nnz_tril(B) = 5050\n",
      "nnz_tril(L) = 5050\n",
      "fill-in abs  = 0\n",
      "\n"
     ]
    }
   ],
   "source": [
    "for n in [5,10,50,80,100]:\n",
    "    for d in [0.1,0.2,0.3,0.4, 0.5]:\n",
    "        print(n,d)\n",
    "        B = construir_spd_densa(n,d)\n",
    "        cholb = np.linalg.cholesky(B)\n",
    "        nnz_tril(cholb, tol) - nnz_tril(B, tol)\n",
    "        print(\"nnz_tril(B) =\", nnz_tril(B))\n",
    "        print(\"nnz_tril(L) =\", nnz_tril(cholb))\n",
    "        print(\"fill-in abs  =\", nnz_tril(cholb, tol) - nnz_tril(B, tol))\n",
    "        print()"
   ]
  },
  {
   "cell_type": "code",
   "execution_count": 23,
   "id": "740c8938",
   "metadata": {},
   "outputs": [],
   "source": [
    "import matplotlib.pyplot as plt\n",
    "n_list = [5, 10, 50, 80, 100]\n",
    "d_list = [0.1, 0.2, 0.3, 0.4, 0.5]\n",
    "fill = np.zeros((len(n_list), len(d_list)), dtype=int)\n",
    "for i, n in enumerate(n_list):\n",
    "    for j, d in enumerate(d_list):\n",
    "        B = construir_spd_densa(n, d)\n",
    "        L = np.linalg.cholesky(B)\n",
    "        fill[i, j] = nnz_tril(L, tol) - nnz_tril(B, tol) \n"
   ]
  },
  {
   "cell_type": "code",
   "execution_count": null,
   "id": "1f08275c",
   "metadata": {},
   "outputs": [],
   "source": []
  },
  {
   "cell_type": "code",
   "execution_count": 25,
   "id": "582426f9",
   "metadata": {},
   "outputs": [
    {
     "data": {
      "image/png": "[encoded data removed]",
      "text/plain": [
       "<Figure size 700x400 with 1 Axes>"
      ]
     },
     "metadata": {},
     "output_type": "display_data"
    }
   ],
   "source": [
    "plt.figure(figsize=(7,4))\n",
    "for i, n in enumerate(n_list):\n",
    "    plt.plot(d_list, fill[i, :], marker='o', label=f\"n={n}\")\n",
    "plt.xlabel('densidad d')\n",
    "plt.ylabel('fill-in (abs)')\n",
    "plt.title('Fill-in de Cholesky vs densidad')\n",
    "plt.legend()\n",
    "plt.tight_layout()\n",
    "plt.show()\n",
    "\n"
   ]
  },
  {
   "cell_type": "code",
   "execution_count": null,
   "id": "41437fe5",
   "metadata": {},
   "outputs": [],
   "source": [
    "# todo graficos de los nnz\n",
    "# todo verificar con matriz de wikpedia"
   ]
  },
  {
   "cell_type": "code",
   "execution_count": null,
   "id": "13d05073",
   "metadata": {},
   "outputs": [],
   "source": []
  }
 ],
 "metadata": {
  "kernelspec": {
   "display_name": "Python 3",
   "language": "python",
   "name": "python3"
  },
  "language_info": {
   "codemirror_mode": {
    "name": "ipython",
    "version": 3
   },
   "file_extension": ".py",
   "mimetype": "text/x-python",
   "name": "python",
   "nbconvert_exporter": "python",
   "pygments_lexer": "ipython3",
   "version": "3.10.18"
  }
 },
 "nbformat": 4,
 "nbformat_minor": 5
}
