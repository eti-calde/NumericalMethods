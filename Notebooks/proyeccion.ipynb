{
 "cells": [
  {
   "cell_type": "code",
   "execution_count": 2,
   "id": "70770aca",
   "metadata": {},
   "outputs": [
    {
     "data": {
      "application/vnd.jupyter.widget-view+json": {
       "model_id": "a85bbc4e5937427c9ac3f2bcd9da73e3",
       "version_major": 2,
       "version_minor": 0
      },
      "text/plain": [
       "interactive(children=(FloatSlider(value=30.0, description='Ángulo v1 (°)', max=360.0, step=1.0), FloatSlider(v…"
      ]
     },
     "metadata": {},
     "output_type": "display_data"
    },
    {
     "data": {
      "text/plain": [
       "<function __main__.plot_vectors_with_projection(theta1_deg=30.0, theta2_deg=120.0, proj_dir='v1 sobre v2')>"
      ]
     },
     "execution_count": 2,
     "metadata": {},
     "output_type": "execute_result"
    }
   ],
   "source": [
    "import numpy as np\n",
    "import matplotlib.pyplot as plt\n",
    "from ipywidgets import interact, FloatSlider, Dropdown\n",
    "\n",
    "# Longitudes (ajústalas si quieres)\n",
    "r1 = 1.0\n",
    "r2 = 1.0\n",
    "\n",
    "# Paleta: magma\n",
    "cmap = plt.get_cmap(\"magma\")\n",
    "C_V1   = cmap(0.25)\n",
    "C_V2   = cmap(0.55)\n",
    "C_PROJ = cmap(0.85)\n",
    "C_ERR  = cmap(0.60)\n",
    "\n",
    "def proj_of_a_on_b(a, b):\n",
    "    \"\"\"Proyección del vector a sobre b: ((a·b)/||b||^2) b\"\"\"\n",
    "    b2 = np.dot(b, b)\n",
    "    if b2 == 0:\n",
    "        return np.zeros_like(b)\n",
    "    return (np.dot(a, b) / b2) * b\n",
    "\n",
    "def plot_vectors_with_projection(theta1_deg=30.0, theta2_deg=120.0, proj_dir=\"v1 sobre v2\"):\n",
    "    # Ángulos en radianes\n",
    "    t1 = np.deg2rad(theta1_deg)\n",
    "    t2 = np.deg2rad(theta2_deg)\n",
    "\n",
    "    # Vectores\n",
    "    v1 = np.array([r1*np.cos(t1), r1*np.sin(t1)])\n",
    "    v2 = np.array([r2*np.cos(t2), r2*np.sin(t2)])\n",
    "\n",
    "    # Elegir dirección de proyección\n",
    "    if proj_dir == \"v1 sobre v2\":\n",
    "        a, b = v1, v2\n",
    "        label_a, label_b = \"v1\", \"v2\"\n",
    "    else:\n",
    "        a, b = v2, v1\n",
    "        label_a, label_b = \"v2\", \"v1\"\n",
    "\n",
    "    proj = proj_of_a_on_b(a, b)\n",
    "    err = a - proj\n",
    "\n",
    "    # Figura\n",
    "    fig = plt.figure(figsize=(6.5, 6))\n",
    "    ax = plt.gca()\n",
    "\n",
    "    # Ejes\n",
    "    ax.axhline(0, color='0.75', linewidth=1, alpha=0.7)\n",
    "    ax.axvline(0, color='0.75', linewidth=1, alpha=0.7)\n",
    "\n",
    "    # Vectores con colores magma\n",
    "    ax.quiver(0, 0, v1[0], v1[1], angles='xy', scale_units='xy', scale=1,\n",
    "              width=0.010, color=C_V1, label=f'v1 ({theta1_deg:.0f}°)')\n",
    "    ax.quiver(0, 0, v2[0], v2[1], angles='xy', scale_units='xy', scale=1,\n",
    "              width=0.010, color=C_V2, label=f'v2 ({theta2_deg:.0f}°)')\n",
    "\n",
    "    # Proyección y componente perpendicular\n",
    "    ax.quiver(0, 0, proj[0], proj[1], angles='xy', scale_units='xy', scale=1,\n",
    "              width=0.013, color=C_PROJ, alpha=0.95, label=f'proj_{label_b}({label_a})')\n",
    "    ax.plot([proj[0], a[0]], [proj[1], a[1]], linestyle='--', linewidth=2.2, color=C_ERR, alpha=0.9,\n",
    "            label='perp')\n",
    "\n",
    "    # Ángulo entre v1 y v2 (opcional)\n",
    "    denom = (np.linalg.norm(v1) * np.linalg.norm(v2) + 1e-12)\n",
    "    cosang = np.clip(np.dot(v1, v2) / denom, -1.0, 1.0)\n",
    "    ang_deg = np.rad2deg(np.arccos(cosang))\n",
    "\n",
    "    # Cuadro de info (abajo-derecha para no chocar con la leyenda)\n",
    "    ax.text(0.98, 0.02,\n",
    "            f\"{label_a}·{label_b} = {np.dot(a,b):.3f}\\n\"\n",
    "            f\"||{label_b}||² = {np.dot(b,b):.3f}\\n\"\n",
    "            f\"Escalar = {np.dot(a,b)/(np.dot(b,b)+1e-12):.3f}\\n\"\n",
    "            f\"||proj|| = {np.linalg.norm(proj):.3f}\\n\"\n",
    "            f\"Ángulo(v1,v2) ≈ {ang_deg:.1f}°\",\n",
    "            transform=ax.transAxes, va='bottom', ha='right', fontsize=10,\n",
    "            bbox=dict(boxstyle=\"round,pad=0.3\", fc=\"white\", ec=\"0.6\", alpha=0.95))\n",
    "\n",
    "    # Vista y leyenda fuera del área de dibujo\n",
    "    L = 1.6*max(r1, r2)\n",
    "    ax.set_xlim(-L, L)\n",
    "    ax.set_ylim(-L, L)\n",
    "    ax.set_aspect('equal', adjustable='box')\n",
    "    ax.grid(True, linestyle='--', alpha=0.35)\n",
    "\n",
    "    # Leyenda fuera para evitar superposición\n",
    "    lg = ax.legend(loc=\"upper left\", bbox_to_anchor=(1.02, 1.0), borderaxespad=0.)\n",
    "    ax.set_title(f\"Proyección vectorial: {label_a} sobre {label_b}\")\n",
    "    ax.set_xlabel(\"x\")\n",
    "    ax.set_ylabel(\"y\")\n",
    "\n",
    "    # Deja margen a la derecha para la leyenda\n",
    "    plt.tight_layout(rect=[0, 0, 0.80, 1])\n",
    "    plt.show()\n",
    "\n",
    "# Controles\n",
    "angle1 = FloatSlider(value=30.0, min=0.0, max=360.0, step=1.0, description='Ángulo v1 (°)')\n",
    "angle2 = FloatSlider(value=120.0, min=0.0, max=360.0, step=1.0, description='Ángulo v2 (°)')\n",
    "proj_dir = Dropdown(options=[\"v1 sobre v2\", \"v2 sobre v1\"], value=\"v1 sobre v2\", description=\"Proyección\")\n",
    "\n",
    "interact(plot_vectors_with_projection, theta1_deg=angle1, theta2_deg=angle2, proj_dir=proj_dir)\n"
   ]
  },
  {
   "cell_type": "code",
   "execution_count": null,
   "id": "813f3630",
   "metadata": {},
   "outputs": [],
   "source": []
  }
 ],
 "metadata": {
  "kernelspec": {
   "display_name": "base",
   "language": "python",
   "name": "python3"
  },
  "language_info": {
   "codemirror_mode": {
    "name": "ipython",
    "version": 3
   },
   "file_extension": ".py",
   "mimetype": "text/x-python",
   "name": "python",
   "nbconvert_exporter": "python",
   "pygments_lexer": "ipython3",
   "version": "3.12.3"
  }
 },
 "nbformat": 4,
 "nbformat_minor": 5
}
