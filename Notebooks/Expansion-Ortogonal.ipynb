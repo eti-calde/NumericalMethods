{
 "cells": [
  {
   "cell_type": "markdown",
   "id": "2a62af42",
   "metadata": {},
   "source": [
    "# Expansión Ortogonal"
   ]
  },
  {
   "cell_type": "code",
   "execution_count": 2,
   "id": "e83c8b5a",
   "metadata": {},
   "outputs": [],
   "source": [
    "import sympy as sp"
   ]
  },
  {
   "cell_type": "code",
   "execution_count": null,
   "id": "2305356e",
   "metadata": {},
   "outputs": [
    {
     "name": "stdout",
     "output_type": "stream",
     "text": [
      "Funciones definidas:\n",
      "f1 = 1\n",
      "f2 = x\n",
      "f3 = x**2\n",
      "f4 = x**3\n",
      "f5 = x**4\n"
     ]
    }
   ],
   "source": [
    "x = sp.symbols('x')\n",
    "# Definir las funciones\n",
    "f1 = 1\n",
    "f2 = x\n",
    "f3 = x**2\n",
    "f4 = x**3\n",
    "f5 = x**4"
   ]
  },
  {
   "cell_type": "markdown",
   "id": "99bbf6f5",
   "metadata": {},
   "source": [
    "# Funciones Auxiliares"
   ]
  },
  {
   "cell_type": "code",
   "execution_count": 4,
   "id": "676a1ff2",
   "metadata": {},
   "outputs": [],
   "source": [
    "def producto_punto(funcion1, funcion2):\n",
    "    return sp.integrate(funcion1 * funcion2, (x, -1, 1))\n",
    "\n",
    "def norma_funcional(funcion1):\n",
    "    return sp.sqrt(producto_punto(funcion1,funcion1))"
   ]
  },
  {
   "cell_type": "code",
   "execution_count": null,
   "id": "10b52087",
   "metadata": {},
   "outputs": [
    {
     "name": "stdout",
     "output_type": "stream",
     "text": [
      "[[sqrt(2)], [0, sqrt(6)/3], [sqrt(2)/3, 0, 2*sqrt(10)/15], [0, sqrt(6)/5, 0, 2*sqrt(14)/35], [sqrt(2)/5, 0, 4*sqrt(10)/35, 0, 8*sqrt(2)/105]]\n",
      "q1(x) = sqrt(2)/2\n",
      "q2(x) = sqrt(6)*x/2\n",
      "q3(x) = 3*sqrt(10)*(x**2 - 1/3)/4\n",
      "q4(x) = 5*sqrt(14)*(x**3 - 3*x/5)/4\n",
      "q5(x) = 105*sqrt(2)*(x**4 - 6*x**2/7 + 3/35)/16\n"
     ]
    }
   ],
   "source": [
    "def gram_schmidt(funciones):\n",
    "    ortonormales = []\n",
    "    R = []\n",
    "    for k in range(len(funciones)):\n",
    "        # L2: y = a_k\n",
    "        y = funciones[k]\n",
    "        r_k = []\n",
    "        # L3: bucle\n",
    "        for i in range(k):\n",
    "            # L4: producto punto entre <q_i , y>\n",
    "            rik = producto_punto(ortonormales[i], y)\n",
    "            r_k.append(rik)\n",
    "            # L5: se resta la proyeccion\n",
    "            y = y - rik * ortonormales[i]\n",
    "        \n",
    "        # L6: Normalización\n",
    "        rk_k = norma_funcional(y)\n",
    "        qk = y / rk_k\n",
    "        \n",
    "        ortonormales.append(qk)\n",
    "        r_k.append(rk_k)\n",
    "        R.append(r_k)\n",
    "    return ortonormales, R\n",
    "\n",
    "\n",
    "\n",
    "funciones = [f1, f2, f3, f4, f5]\n",
    "funciones_ortonormales, R = gram_schmidt(funciones)\n",
    "\n",
    "print(R)\n",
    "\n",
    "for i, f in enumerate(funciones_ortonormales):\n",
    "    print(f\"q{i+1}(x) = {f}\")"
   ]
  },
  {
   "cell_type": "code",
   "execution_count": null,
   "id": "bdc00c3f",
   "metadata": {},
   "outputs": [],
   "source": []
  }
 ],
 "metadata": {
  "kernelspec": {
   "display_name": "global",
   "language": "python",
   "name": "python3"
  },
  "language_info": {
   "codemirror_mode": {
    "name": "ipython",
    "version": 3
   },
   "file_extension": ".py",
   "mimetype": "text/x-python",
   "name": "python",
   "nbconvert_exporter": "python",
   "pygments_lexer": "ipython3",
   "version": "3.13.7"
  }
 },
 "nbformat": 4,
 "nbformat_minor": 5
}
