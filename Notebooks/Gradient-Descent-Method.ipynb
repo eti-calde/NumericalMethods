{
 "cells": [
  {
   "cell_type": "markdown",
   "id": "5fe6322a",
   "metadata": {},
   "source": [
    "# **1. Gradient Descent Method**"
   ]
  },
  {
   "cell_type": "markdown",
   "id": "a3b87290",
   "metadata": {},
   "source": [
    "## 1.1 Base Method"
   ]
  },
  {
   "cell_type": "markdown",
   "id": "ac9e4329",
   "metadata": {},
   "source": [
    "**idea:** find the minimum of a function by moving iteratively in the direction of greatest descent, which is opposite to the gradient."
   ]
  },
  {
   "cell_type": "markdown",
   "id": "75fc8f44",
   "metadata": {},
   "source": [
    "**Pseudocode**\n",
    "```python\n",
    "for i in range(n):\n",
    "    v = ∇f\n",
    "    s* = min f(xi- sv)\n",
    "    xi+1 = xi - s*v\n",
    "```\n",
    "\n",
    "\n",
    "Remember that $\\nabla f(x_1,x_2,...,x_n) = (\\frac{\\partial f }{\\partial x_1} , \\frac{\\partial f}{\\partial x_2} , ... , \\frac{\\partial f}{\\partial x_n})$\n",
    "\n",
    "---"
   ]
  },
  {
   "cell_type": "markdown",
   "id": "b4352802",
   "metadata": {},
   "source": [
    "## 1.2 Study case: minimize a convex quadratic function\n",
    "\n",
    "We want to minimize the following convex quadratic function:\n",
    "\n",
    "$$\n",
    "\\begin{align*}\n",
    "\\Phi(y) = \\frac{1}{2} y^T Ay-y^T b\n",
    "\\end{align*}\n",
    "$$\n",
    "\n",
    "Where $A$ is a positive definite and symmetric matrix. We start by calculating the gradient.\n",
    "$$\n",
    "\\begin{align*}\n",
    "\\nabla \\Phi (y) &= \\frac{1}{2} (A^T + A)y-b= 0 \\\\\n",
    "\\nabla \\Phi (y) &= Ay -b =0\n",
    "\\end{align*}\n",
    "$$\n",
    "\n",
    "So now we need to solve the system $Ay=b$, we define the residue as:\n",
    "$$\n",
    "r_k = b- Ax_K\n",
    "$$\n",
    "\n",
    "An iterative method is defined to solve the system:\n",
    "\n",
    "$$\n",
    "\\begin{align*}\n",
    "x_{k+1} = x_k + `vector` \\\\\n",
    "\\end{align*}\n",
    "$$\n",
    "\n",
    "Using the gradient descent logic, we defined the $`vector`$ in the direction of the maximun decrease.\n",
    "\n",
    "$$\n",
    "\\begin{align*}\n",
    "x_{k+1} &= x_k + \\alpha_k(A x_k -b) \\\\\n",
    "x_{k+1} &= x_k + \\alpha_k r_k\n",
    "\\end{align*}\n",
    "$$\n",
    "\n",
    "### 1.2.1 How we get $\\alpha$ ?\n",
    "We can defined a root search, first go with the iterative method of $\\Phi()$:\n",
    "$$\n",
    "\\Phi(x_{k+1}) = \\frac{1}{2} (x_k + \\alpha_k r_k)^T A (x_k + \\alpha_k r_k) - (x_k + \\alpha r_k)^T b\n",
    "$$\n",
    "\n",
    "When $x_k$ and $r_K$ are know $\\rightarrow$ $f(\\alpha) = \\Phi(x_k + \\alpha r_k)$ so we can use the Newton Nethod:\n",
    "\n",
    "$$\n",
    "\\alpha = \\frac{r^T r_K}{r_k^T A r_k}\n",
    "$$\n",
    "\n",
    "---"
   ]
  },
  {
   "cell_type": "markdown",
   "id": "fc23495a",
   "metadata": {},
   "source": [
    "# **2. Conjugate Gradient Method**"
   ]
  },
  {
   "cell_type": "markdown",
   "id": "defc23ed",
   "metadata": {},
   "source": [
    "## 2,1 Reflections on the Gradient Descent Method\n",
    "\n",
    "We build the solution of the system of linear equations iteratively of the next form:\n",
    "\n",
    "$$\n",
    "\\begin{aligned}\n",
    "    \\mathbf{x}_1 &= \\mathbf{x}_0 + \\alpha_0 \\mathbf{r}_0, \\\\\n",
    "    \\mathbf{x}_2 &= \\mathbf{x}_1 + \\alpha_1 \\mathbf{r}_1, \\\\\n",
    "    &\\ \\vdots \\\\\n",
    "    \\mathbf{x}_{k+1} &= \\mathbf{x}_k + \\alpha_k \\mathbf{r}_k\n",
    "\\end{aligned}\n",
    "\n",
    "$$"
   ]
  },
  {
   "cell_type": "markdown",
   "id": "08e2fecc",
   "metadata": {},
   "source": [
    "\\begin{aligned}\n",
    "    &\\Rightarrow \\mathbf{x}_2 = \\mathbf{x}_0 + \\alpha_0 \\mathbf{r}_0 + \\alpha_1 \\mathbf{r}_1, \\\\\n",
    "    &\\mathbf{x}_2 = \\mathbf{x}_0 +\n",
    "    \\underbrace{\\begin{bmatrix}\n",
    "        \\mathbf{r}_0 & \\mathbf{r}_1\n",
    "    \\end{bmatrix}}_{\\text{Base}}\n",
    "    \\begin{bmatrix}\n",
    "        \\alpha_0 \\\\\n",
    "        \\alpha_1\n",
    "    \\end{bmatrix}, \\\\\n",
    "    &\\vdots \\\\\n",
    "    &\\mathbf{x}_{k+1} = \\mathbf{x}_0 +\n",
    "    \\underbrace{\\begin{bmatrix}\n",
    "        \\mathbf{r}_0 & \\cdots & \\mathbf{r}_k\n",
    "    \\end{bmatrix}}_{\\text{Base}}\n",
    "    \\begin{bmatrix}\n",
    "        \\alpha_0 \\\\\n",
    "        \\vdots \\\\\n",
    "        \\alpha_k\n",
    "    \\end{bmatrix}.\n",
    "\\end{aligned}\n",
    "\n",
    "\n",
    "1. If we want to build a base at $ \\mathbb{R}^n $ we only need $n$ vectors **linearly independent**.\n",
    "2. Therefore, we should not need more than $n$ iterations to represent the solution with exact arithmetic.\n",
    "3. I assume that with the convenient address you can converge at the most $n$ Iterations and potentially less than $n$.\n",
    "\n",
    "---"
   ]
  },
  {
   "cell_type": "markdown",
   "id": "bff25f85",
   "metadata": {},
   "source": [
    "## 2.2 Derivation of the conjugated gradient method\n",
    "\n",
    "It seeks to build the X solution as a linear combination of linearly independent vector in $\\mathbb{R}^n$, that is:\n",
    "\n",
    "$$\n",
    "x = x_0 + \\sum_{i=0}^{n-1} \\alpha_i d_i \\tag{1}\n",
    "$$"
   ]
  },
  {
   "cell_type": "markdown",
   "id": "c8c04909",
   "metadata": {},
   "source": [
    "with this notation:\n",
    "\n",
    "$$\n",
    "\\begin{aligned}\n",
    "    \\mathbf{x}_1 &= \\mathbf{x}_0 + \\alpha_0 \\mathbf{d}_0, \\\\\n",
    "    \\mathbf{x}_2 &= \\mathbf{x}_1 + \\alpha_1 \\mathbf{d}_1, \\\\\n",
    "    &\\ \\vdots \\\\\n",
    "    \\mathbf{x}_n &= \\mathbf{x}_{n-1} + \\alpha_{n-1} \\mathbf{d}_{n-1},\n",
    "\\end{aligned}\n",
    "$$\n",
    "we can define: \n",
    "\n",
    "$$\n",
    "\\begin{aligned}\n",
    "    \\mathbf{x}_{k+1} = \\mathbf{x_k} + \\alpha_k \\mathbf{d}_k \\tag{2}\n",
    "\\end{aligned}\n",
    "$$\n",
    "We multiply the EC (2) by -A on the left:\n",
    "$$\n",
    "\\begin{aligned}\n",
    "    -A\\mathbf{x}_{k+1} = -A\\mathbf{x_k} - \\alpha_k A\\mathbf{d}_k\n",
    "\\end{aligned}\n",
    "$$\n",
    "And adding B on both sides we get:\n",
    "$$\n",
    "\\begin{aligned}\n",
    "    \\mathbf{r}_{k+1} = \\mathbf{r}_k - \\alpha_k A \\mathbf{d}_k \\tag{3}\n",
    "\\end{aligned}\n",
    "$$\n",
    "Therefore we have found a relationship between residual vectors based on directions $\\mathbf{d}_k$, but we lack a form of find $\\alpha_k$ and $d_k$, that are needed in equations (2) & (3)\n",
    "\n",
    "---"
   ]
  },
  {
   "cell_type": "markdown",
   "id": "a7ccd43a",
   "metadata": {},
   "source": [
    "## 2.3 Find $\\alpha$ and $\\mathbf{d}$\n",
    "We start replacing (1) in ax = b\n",
    "\n",
    "$$\n",
    "\\begin{aligned}\n",
    "    A \\bigg ( x_0 + \\sum_{i=0}^{n-1} \\alpha_i \\mathbf{d}_i \\bigg) =b \\\\\n",
    "    A x_0  + \\sum_{i=0}^{n-1} \\alpha_i \\mathbf{d}_i =b\n",
    "\n",
    "\\end{aligned}\n",
    "$$\n",
    "\n",
    "Re-writing we get,\n",
    "$$\n",
    "\\alpha_0 A \\mathbf{d}_0 + \\alpha_1 A \\mathbf{d}_1 + ... + \\alpha_{n-1} A \\mathbf{d}_{n-1} = \\mathbf{b}- A x_0 = \\mathbf{r}_0\n",
    "$$\n",
    "\n",
    "\n",
    "Then, using orthogonality properties, we get:\n",
    "\n",
    "\n",
    "$$\n",
    "\\begin{aligned}\n",
    "\\alpha_k = \\frac{\\mathbf{d}_k^T \\mathbf{r}_k}{\\mathbf{d}_k^T A \\mathbf{d}_k} = \\frac{\\mathbf{d}_k^T \\mathbf{r}_0}{\\mathbf{d}_k^T A \\mathbf{d}_k} \\\\\n",
    "\\mathbf{d}_{k+1} = \\mathbf{r}_{k+1} - \\beta_{k} \\mathbf{d}_k \\\\\n",
    "\\beta_k = \\frac{\\mathbf{d}_k^T A \\mathbf{r}_{k+1}}{\\mathbf{d}_k^T A \\mathbf{d}_k}\n",
    "\n",
    "\\end{aligned}\n",
    "$$\n",
    "\n",
    "---"
   ]
  },
  {
   "cell_type": "markdown",
   "id": "0a034e11",
   "metadata": {},
   "source": [
    "## 2.4 Psuedocode V.1\n",
    "\n",
    "$$\n",
    "\\begin{aligned}\n",
    "&\\mathbf{x}_0 = \\text{\"dato\"} \\\\\n",
    "&\\mathbf{r}_0 = \\mathbf{b} - A \\mathbf{x}_0 \\\\\n",
    "&\\mathbf{d}_0 = \\mathbf{r}_0 \\\\\n",
    "&\\textbf{for } k \\in \\text{range}(0, n): \\\\\n",
    "&\\quad \\alpha_k = \\frac{\\mathbf{d}_k^T \\mathbf{r}_k}{\\mathbf{d}_k^T A \\mathbf{d}_k} \\quad \\longrightarrow \\quad A\\mathbf{y} = \\mathrm{afun}(\\mathbf{y}) \\\\\n",
    "&\\quad \\mathbf{x}_{k+1} = \\mathbf{x}_k + \\alpha_k \\mathbf{d}_k \\\\\n",
    "&\\quad \\mathbf{r}_{k+1} = \\mathbf{r}_k - \\alpha_k A \\mathbf{d}_k = \\mathbf{b} - A \\mathbf{x}_{k+1} \\\\\n",
    "&\\quad \\beta_k = \\frac{\\mathbf{d}_k^T A \\mathbf{r}_{k+1}}{\\mathbf{d}_k^T A \\mathbf{d}_k} \\\\\n",
    "&\\quad \\mathbf{d}_{k+1} = \\mathbf{r}_{k+1} - \\beta_k \\mathbf{d}_k\n",
    "\\end{aligned}\n",
    "$$\n",
    "\n",
    "---\n",
    "\n",
    "## 2.5 Pseudocode V.2\n",
    "\n",
    "$$\n",
    "\\begin{aligned}\n",
    "&\\mathbf{x}_0 = \\text{\"dato\"} \\\\\n",
    "&\\mathbf{d}_0 = \\mathbf{r}_0 = \\mathbf{b} - A \\mathbf{x}_0 \\\\\n",
    "&{\\textbf{for } k \\in \\text{range}(n):} \\\\\n",
    "&\\quad {\\textbf{if }} \\|\\mathbf{r}_k\\| == 0: \\\\\n",
    "&\\quad\\quad {\\textbf{break}} \\\\\n",
    "&\\quad \\alpha_k = \\frac{\\mathbf{r}_k^T \\mathbf{r}_k}{\\mathbf{d}_k^T A \\mathbf{d}_k} \\\\\n",
    "&\\quad \\mathbf{x}_{k+1} = \\mathbf{x}_k + \\alpha_k \\mathbf{d}_k \\\\\n",
    "&\\quad \\mathbf{r}_{k+1} = \\mathbf{r}_k - \\alpha_k A \\mathbf{d}_k \\\\\n",
    "&\\quad \\beta_k = \\frac{\\mathbf{r}_{k+1}^T \\mathbf{r}_{k+1}}{\\mathbf{r}_k^T \\mathbf{r}_k} \\\\\n",
    "&\\quad \\mathbf{d}_{k+1} = \\mathbf{r}_{k+1} + \\beta_k \\mathbf{d}_k\n",
    "\\end{aligned}\n",
    "$$\n",
    "\n"
   ]
  },
  {
   "cell_type": "markdown",
   "id": "750850d2",
   "metadata": {},
   "source": [
    "# 3. Implementation V1"
   ]
  },
  {
   "cell_type": "code",
   "execution_count": null,
   "id": "9c98cc10",
   "metadata": {},
   "outputs": [],
   "source": [
    "import numpy as np\n",
    "import matplotlib.pyplot as plt\n",
    "import scipy.linalg as spla\n",
    "%matplotlib inline\n",
    "from sklearn import datasets\n",
    "import ipywidgets as widgets\n",
    "from ipywidgets import interact, interact_manual, RadioButtons\n",
    "import matplotlib as mpl\n",
    "mpl.rcParams['font.size'] = 14\n",
    "mpl.rcParams['axes.labelsize'] = 20\n",
    "mpl.rcParams['xtick.labelsize'] = 14\n",
    "mpl.rcParams['ytick.labelsize'] = 14\n",
    "M=8"
   ]
  },
  {
   "cell_type": "code",
   "execution_count": null,
   "id": "d538d139",
   "metadata": {},
   "outputs": [
    {
     "data": {
      "application/vnd.jupyter.widget-view+json": {
       "model_id": "5bd7c87c7702476da0f2ff31a5f90276",
       "version_major": 2,
       "version_minor": 0
      },
      "text/plain": [
       "interactive(children=(FloatSlider(value=3.0, description='a', max=6.0, min=0.5), FloatSlider(value=4.5, descri…"
      ]
     },
     "metadata": {},
     "output_type": "display_data"
    },
    {
     "data": {
      "text/plain": [
       "<function __main__.plot_with_path(a=3.0, x0=4.5)>"
      ]
     },
     "execution_count": 32,
     "metadata": {},
     "output_type": "execute_result"
    }
   ],
   "source": [
    "def f(x, a=3.0):\n",
    "    return x**2 + (x - 2)*np.sin(a*x)\n",
    "\n",
    "def fprime(x, a):\n",
    "    return 2*x + np.sin(a*x) + a*(x - 2)*np.cos(a*x)\n",
    "\n",
    "def gd_armijo(f, fprime, x0, a=3.0, n=500, tol=1e-8,\n",
    "          alpha0=1.0, beta=0.5, c=1e-4):\n",
    "    x = float(x0)\n",
    "    traj = [x]\n",
    "    for _ in range(n):\n",
    "        grad = fprime(x, a)\n",
    "\n",
    "        if abs(grad) <= tol:\n",
    "            break\n",
    "        # El residuo mide que tan lejos estamos de la solución b - Ax\n",
    "        # si queremos minimizar una funcion seria equivalente a que el f'(x) =0\n",
    "        r = -grad\n",
    "        # Alpha del algoritmo D2.2.2 alpha = (r_k^T r_k) / es el optimo para una función cuadratica\n",
    "        # ¿cómo resolvemos si tenemos una función generica?\n",
    "        # usamos una alpha fijo o buscamos el mejor alpha\n",
    "        alpha = alpha0\n",
    "        fx = f(x, a)\n",
    "        # armijo: Acepto el paso solo si me hace bajar lo suficiente según la pendiente actual.\n",
    "        while f(x + alpha*r, a) > fx - c*alpha*(grad**2):\n",
    "            # ¿de donde sale el grad^2?\n",
    "            # f(x+αr)≈f(x)+αrg / y estamos usando r = -g\n",
    "            alpha *= beta\n",
    "        x = x + alpha*r\n",
    "        traj.append(x)\n",
    "    return x, np.array(traj)\n",
    "\n",
    "def gd_fixed_alpha(f, fprime, x0, a=3.0, n=500, tol=1e-8, alpha=1.0):\n",
    "    x = float(x0)\n",
    "    traj = [x]\n",
    "    for _ in range(n):\n",
    "        grad = fprime(x, a)\n",
    "\n",
    "        if abs(grad) <= tol:\n",
    "            break\n",
    "        r = -grad\n",
    "        x = x + alpha*r\n",
    "        traj.append(x)\n",
    "    return x, np.array(traj)\n",
    "\n",
    "# implementar sgd\n",
    "\n",
    "def plot_with_path(a=3.0, x0=4.5):\n",
    "    xgrid = np.linspace(-8, 8, 1600)\n",
    "    ygrid = f(xgrid, a)\n",
    "    xmin, path = gd_1d(f, fprime, x0, a=a)\n",
    "    \n",
    "    plt.figure()\n",
    "    plt.plot(xgrid, ygrid, label=f\"f(x) (a={a})\")\n",
    "    plt.plot(path, f(path, a), \"o-\", ms=3, label=\"GD trajectory\")\n",
    "    plt.plot(x0, f(x0, a), \"o\", ms=5, label=\"initial guess\", c='black')\n",
    "    plt.grid(True, alpha=0.3)\n",
    "    plt.xlabel(\"x\")\n",
    "    plt.ylabel(\"f(x)\")\n",
    "    plt.legend()\n",
    "    plt.show()\n",
    "    \n",
    "    print(f\"x0={x0}  ->  x*≈{xmin:.6f},  f(x*)≈{f(xmin,a):.6f}\")\n",
    "\n",
    "# Slider para cambiar punto inicial\n",
    "interact(plot_with_path, a=(0.5, 6.0, 0.1), x0=(-8.0, 8.0, 0.1))\n"
   ]
  },
  {
   "cell_type": "markdown",
   "id": "d052c358",
   "metadata": {},
   "source": [
    "---"
   ]
  },
  {
   "cell_type": "markdown",
   "id": "a52a4edc",
   "metadata": {},
   "source": [
    "# revisar version vibe coder jeje"
   ]
  },
  {
   "cell_type": "code",
   "execution_count": 33,
   "id": "3e1e016e",
   "metadata": {},
   "outputs": [
    {
     "data": {
      "application/vnd.jupyter.widget-view+json": {
       "model_id": "60f34eddf36343c09b4f13b9793f2e49",
       "version_major": 2,
       "version_minor": 0
      },
      "text/plain": [
       "interactive(children=(Dropdown(description='method', options=('Armijo', 'Alpha fijo', 'SGD (ruido)'), value='A…"
      ]
     },
     "metadata": {},
     "output_type": "display_data"
    },
    {
     "data": {
      "text/plain": [
       "<function __main__.solve_and_plot(method='Armijo', a=3.0, x0=4.5, n=300, alpha0=1.0, beta=0.5, c=0.0001, alpha=0.05, decay=0.0, noise_std=0.2)>"
      ]
     },
     "execution_count": 33,
     "metadata": {},
     "output_type": "execute_result"
    }
   ],
   "source": [
    "import numpy as np\n",
    "import matplotlib.pyplot as plt\n",
    "from ipywidgets import interact, Dropdown\n",
    "\n",
    "# --- función objetivo y derivada ---\n",
    "def f(x, a=3.0):\n",
    "    return x**2 + (x - 2)*np.sin(a*x)\n",
    "\n",
    "def fprime(x, a):\n",
    "    return 2*x + np.sin(a*x) + a*(x - 2)*np.cos(a*x)\n",
    "\n",
    "# --- Métodos de gradiente ---\n",
    "def gd_armijo(f, fprime, x0, a=3.0, n=500, tol=1e-8,\n",
    "              alpha0=1.0, beta=0.5, c=1e-4):\n",
    "    x = float(x0)\n",
    "    traj = [x]\n",
    "    for _ in range(n):\n",
    "        g = fprime(x, a)\n",
    "        if abs(g) <= tol:\n",
    "            break\n",
    "        r = -g\n",
    "        fx = f(x, a)\n",
    "        alpha = alpha0\n",
    "        # backtracking-Armijo: bajar lo suficiente ≈ fracción c del descenso lineal\n",
    "        while f(x + alpha*r, a) > fx - c*alpha*(g**2):\n",
    "            alpha *= beta\n",
    "        x = x + alpha*r\n",
    "        traj.append(x)\n",
    "    return x, np.array(traj)\n",
    "\n",
    "def gd_fixed_alpha(f, fprime, x0, a=3.0, n=500, tol=1e-8, alpha=0.05):\n",
    "    x = float(x0)\n",
    "    traj = [x]\n",
    "    for _ in range(n):\n",
    "        g = fprime(x, a)\n",
    "        if abs(g) <= tol:\n",
    "            break\n",
    "        x = x - alpha*g\n",
    "        traj.append(x)\n",
    "    return x, np.array(traj)\n",
    "\n",
    "def gd_sgd_noisy(f, fprime, x0, a=3.0, n=500, tol=1e-8,\n",
    "                 alpha=0.05, decay=0.0, noise_std=0.2, seed=0):\n",
    "    \"\"\"\n",
    "    'SGD' didáctico en 1D: gradiente + ruido ~ N(0, noise_std^2).\n",
    "    decay controla alpha_t = alpha / (1 + decay*t).\n",
    "    \"\"\"\n",
    "    rng = np.random.default_rng(seed)\n",
    "    x = float(x0)\n",
    "    traj = [x]\n",
    "    for t in range(n):\n",
    "        g = fprime(x, a)\n",
    "        if abs(g) <= tol:\n",
    "            break\n",
    "        g_noisy = g + rng.normal(0.0, noise_std)\n",
    "        lr = alpha / (1.0 + decay*t)\n",
    "        x = x - lr*g_noisy\n",
    "        traj.append(x)\n",
    "    return x, np.array(traj)\n",
    "\n",
    "# --- Dispatcher + plotting ---\n",
    "def solve_and_plot(method='Armijo', a=3.0, x0=4.5, n=300,\n",
    "                   # Armijo\n",
    "                   alpha0=1.0, beta=0.5, c=1e-4,\n",
    "                   # Fijo / SGD\n",
    "                   alpha=0.05,\n",
    "                   # SGD extra\n",
    "                   decay=0.0, noise_std=0.2):\n",
    "    xgrid = np.linspace(-8, 8, 1600)\n",
    "    ygrid = f(xgrid, a)\n",
    "\n",
    "    if method == 'Armijo':\n",
    "        xmin, path = gd_armijo(f, fprime, x0, a=a, n=n, alpha0=alpha0, beta=beta, c=c)\n",
    "        label_m = f\"GD (Armijo)\"\n",
    "    elif method == 'Alpha fijo':\n",
    "        xmin, path = gd_fixed_alpha(f, fprime, x0, a=a, n=n, alpha=alpha)\n",
    "        label_m = f\"GD (α fijo={alpha})\"\n",
    "    else:  # 'SGD (ruido)'\n",
    "        xmin, path = gd_sgd_noisy(f, fprime, x0, a=a, n=n, alpha=alpha,\n",
    "                                  decay=decay, noise_std=noise_std)\n",
    "        label_m = f\"SGD (α={alpha}, ruido={noise_std})\"\n",
    "\n",
    "    plt.figure()\n",
    "    plt.plot(xgrid, ygrid, label=f\"f(x) (a={a})\")\n",
    "    plt.plot(path, f(path, a), \"o-\", ms=3, label=label_m)\n",
    "    plt.plot([x0], [f(x0, a)], \"o\", ms=5, label=\"x0\", color=\"black\")\n",
    "    plt.grid(True, alpha=0.3)\n",
    "    plt.xlabel(\"x\"); plt.ylabel(\"f(x)\")\n",
    "    plt.legend(); plt.show()\n",
    "\n",
    "    print(f\"[{method}] x0={x0}  ->  x*≈{xmin:.6f},  f(x*)≈{f(xmin,a):.6f}\")\n",
    "\n",
    "# --- UI ---\n",
    "interact(\n",
    "    solve_and_plot,\n",
    "    method=Dropdown(options=['Armijo', 'Alpha fijo', 'SGD (ruido)'], value='Armijo'),\n",
    "    a=(0.5, 6.0, 0.1),\n",
    "    x0=(-8.0, 8.0, 0.1),\n",
    "    n=(50, 1000, 50),\n",
    "    alpha0=(0.1, 5.0, 0.1),\n",
    "    beta=(0.1, 0.9, 0.05),\n",
    "    c=(1e-6, 1e-2, 1e-4),\n",
    "    alpha=(0.001, 0.5, 0.005),\n",
    "    decay=(0.0, 0.1, 0.005),\n",
    "    noise_std=(0.0, 0.6, 0.02),\n",
    ")\n"
   ]
  },
  {
   "cell_type": "code",
   "execution_count": null,
   "id": "7d1b1f27",
   "metadata": {},
   "outputs": [],
   "source": []
  },
  {
   "cell_type": "markdown",
   "id": "a4567a89",
   "metadata": {},
   "source": [
    "# CODIGO PROFE"
   ]
  },
  {
   "cell_type": "code",
   "execution_count": 11,
   "id": "dda94f05",
   "metadata": {},
   "outputs": [
    {
     "data": {
      "image/png": "[encoded data removed]",
      "text/plain": [
       "<Figure size 800x800 with 1 Axes>"
      ]
     },
     "metadata": {},
     "output_type": "display_data"
    }
   ],
   "source": [
    "# Defining the function using a 'lambda' definition.\n",
    "f = lambda x: (x - 2)*np.sin(2*x) + np.power(x,2)\n",
    "\n",
    "\n",
    "xx = np.linspace(-3,3,1000)\n",
    "# Plotting the function\n",
    "plt.figure(figsize=(8,8))\n",
    "plt.plot(xx,f(xx),'-',label=r'$f(x)$')\n",
    "plt.grid(True)\n",
    "plt.xlabel('$x$')\n",
    "plt.legend(loc='best')\n",
    "plt.show()"
   ]
  },
  {
   "cell_type": "code",
   "execution_count": 12,
   "id": "22ef9383",
   "metadata": {},
   "outputs": [
    {
     "data": {
      "application/vnd.jupyter.widget-view+json": {
       "model_id": "7179c16f7c164abcaddae51d86f75137",
       "version_major": 2,
       "version_minor": 0
      },
      "text/plain": [
       "interactive(children=(FloatSlider(value=2.0, description='x0', max=3.0, min=-3.0), FloatSlider(value=1.0, desc…"
      ]
     },
     "metadata": {},
     "output_type": "display_data"
    },
    {
     "data": {
      "text/plain": [
       "<function __main__.GD_1D(x0=2, alpha=1, n=0)>"
      ]
     },
     "execution_count": 12,
     "metadata": {},
     "output_type": "execute_result"
    }
   ],
   "source": [
    "def GD_1D(x0=2, alpha=1, n=0):\n",
    "    \n",
    "    # Defining the function using a 'lambda' definition and its derivative.\n",
    "    f = lambda x: (x-2)*np.sin(2*x)+np.power(x,2)\n",
    "    fp = lambda x: 2*x+2*(x-2)*np.cos(2*x)+np.sin(2*x)\n",
    "    \n",
    "    # Plotting the function and its derivative.\n",
    "    xx = np.linspace(-3,3,1000)\n",
    "    plt.figure(figsize=(14,7))\n",
    "    \n",
    "    ax = plt.subplot(1,2,1)\n",
    "    plt.plot(xx,f(xx),'b-',label=r'$f(x)$')\n",
    "    # Warning: The 'alpha' parameter for the plt.plot function corresponds to\n",
    "    # a transparency parameter, it is not related to the alpha parameter of\n",
    "    # the Gradient Descent explained before.\n",
    "    plt.plot(xx,fp(xx),'r-',label=r\"$f'(x)$\", alpha=0.5)\n",
    "    plt.grid(True)\n",
    "    plt.xlabel('$x$')\n",
    "    plt.title('Plot in linear scale')\n",
    "    \n",
    "    # Plotting outcome with no iterations\n",
    "    plt.plot(x0,f(x0),'k.',markersize=10,label=r'$x_i$')\n",
    "    plt.plot(x0,fp(x0),'m.',markersize=10,label=r\"$f'(x_i)$: 'Gradient'\")\n",
    "    ax = plt.subplot(1,2,2)\n",
    "    plt.semilogy(xx,np.abs(f(xx)),'b-',label=r\"$|f(x)|$\")\n",
    "    plt.semilogy(xx,np.abs(fp(xx)),'r-',label=r\"$|f'(x)|$\", alpha=0.5)\n",
    "    plt.grid(True)\n",
    "    plt.xlabel('$x$')\n",
    "    plt.title('Plot in logarithmic scale')\n",
    "    plt.semilogy(x0,np.abs(f(x0)),'k.',markersize=10,label=r'$x_i$')\n",
    "    plt.semilogy(x0,np.abs(fp(x0)),'m.',markersize=10,label=r\"$|f'(x_i)|$: 'Gradient'\")\n",
    "    \n",
    "    # Computing steps of Gradient Descent\n",
    "    if n>0:\n",
    "        xi_output=np.zeros(n+1)\n",
    "        xi_output[0]=x0\n",
    "        for k in range(n):\n",
    "            fp_x0=fp(x0)\n",
    "            x1 = x0-alpha*fp_x0\n",
    "            xi_output[k+1]=x1\n",
    "            x0 = x1\n",
    "        ax = plt.subplot(1,2,1)\n",
    "        plt.plot(xi_output,f(xi_output),'k.-',markersize=10,label=r'$x_i$')\n",
    "        plt.plot(xi_output,fp(xi_output),'m.',markersize=10)\n",
    "        ax = plt.subplot(1,2,2)\n",
    "        plt.semilogy(xi_output,np.abs(f(xi_output)),'k.-',markersize=10,label=r'$x_i$')\n",
    "        plt.semilogy(xi_output,np.abs(fp(xi_output)),'m.',markersize=10)\n",
    "        \n",
    "    \n",
    "    # Plotting outcome\n",
    "    ax = plt.subplot(1,2,1)\n",
    "    plt.legend(loc='best')\n",
    "    ax = plt.subplot(1,2,2)\n",
    "    plt.legend(loc='best')\n",
    "    \n",
    "    plt.show()\n",
    "    \n",
    "interact(GD_1D,x0=(-3,3,0.1), alpha=(0,10,0.01), n=(0,100,1))"
   ]
  },
  {
   "cell_type": "code",
   "execution_count": 13,
   "id": "9f9249b2",
   "metadata": {},
   "outputs": [
    {
     "data": {
      "application/vnd.jupyter.widget-view+json": {
       "model_id": "ed8917878f87498887b22de9eb48c04b",
       "version_major": 2,
       "version_minor": 0
      },
      "text/plain": [
       "interactive(children=(FloatSlider(value=0.75, description='a0', max=2.0, min=-2.0, step=0.01), FloatSlider(val…"
      ]
     },
     "metadata": {},
     "output_type": "display_data"
    },
    {
     "data": {
      "text/plain": [
       "<function __main__.GD_2D_nonlinear(a0=0.75, b0=0.75, alpha=0, n=0, m=10, TheVariantFlag=False)>"
      ]
     },
     "execution_count": 13,
     "metadata": {},
     "output_type": "execute_result"
    }
   ],
   "source": [
    "def GD_2D_nonlinear(a0=0.75, b0=0.75, alpha=0, n=0, m=10, TheVariantFlag=False):\n",
    "    \n",
    "    # Building data.\n",
    "    np.random.seed(0)\n",
    "    a = 1.1\n",
    "    b = 0.23\n",
    "    y = lambda t: a*np.exp(b*t)\n",
    "    T = 10\n",
    "    ti = T*(np.random.rand(m)*2-1)\n",
    "    yi = y(ti)+np.random.normal(loc=0, scale=0.1, size=m)\n",
    "    \n",
    "    # Defining the Gradient\n",
    "    E = lambda a, b: np.sum(np.power(yi-a*np.exp(b*ti),2))\n",
    "    G = lambda a, b: np.array([np.sum(2*np.exp(b*ti)*(a*np.exp(b*ti)-yi)), np.sum(2*a*np.exp(b*ti)*ti*(a*np.exp(b*ti)-yi))],dtype=float)\n",
    "    # This fucntion will help us to evaluate the Gradient on the points (X[i,j],Y[i,j])\n",
    "    def E_mG_XY(AA,BB):\n",
    "        Z = np.zeros_like(AA)\n",
    "        U = np.zeros_like(AA)\n",
    "        V = np.zeros_like(AA)\n",
    "        for i in range(m):\n",
    "            for j in range(m):\n",
    "                Z[i,j]=E(AA[i,j],BB[i,j])\n",
    "                uv = -G(AA[i,j],BB[i,j])\n",
    "                U[i,j] = uv[0]\n",
    "                V[i,j] = uv[1]\n",
    "        return Z, U, V\n",
    "    \n",
    "    # Plotting the function and its gradient.\n",
    "    # Credits: \n",
    "    #  https://matplotlib.org/stable/gallery/images_contours_and_fields/plot_streamplot.html\n",
    "    #  https://scipython.com/blog/visualizing-a-vector-field-with-matplotlib/\n",
    "    x = np.linspace(-3,3,m)\n",
    "    AA, BB = np.meshgrid(x,x)\n",
    "    fig = plt.figure(figsize=(14,10))\n",
    "    Z, U, V = E_mG_XY(AA,BB)\n",
    "    cont = plt.contour(AA,BB,Z, 10)\n",
    "    stream = plt.streamplot(AA, BB, U, V, color=Z, linewidth=2, cmap='autumn', arrowstyle='->', arrowsize=2)\n",
    "    fig.colorbar(stream.lines)\n",
    "    fig.colorbar(cont)\n",
    "    plt.scatter(a0, b0, s=300, marker='.', c='k')\n",
    "    my_grad = G(a0,b0)\n",
    "    my_title = r'$\\alpha=$ %.4f, $E(a,b)=$ %.4f, $\\nabla E(a,b)=$ [%.4f, %.4f]' %  (alpha, E(a0,b0), my_grad[0], my_grad[1])\n",
    "    plt.title(my_title)\n",
    "    \n",
    "    # Computing steps of Gradient Descent\n",
    "    if n>0:\n",
    "        ab_output=np.zeros((n+1,2))\n",
    "        z0 = np.array([a0,b0],dtype=float)\n",
    "        z0[0] = a0\n",
    "        z0[1] = b0\n",
    "        ab_output[0,:]=z0\n",
    "        # The Gradient Descent Algorithm\n",
    "        for k in range(n):\n",
    "            G_E_0=G(z0[0],z0[1])\n",
    "            if not TheVariantFlag:\n",
    "                # Traditional GD\n",
    "                z1 = z0-alpha*G_E_0\n",
    "            else:\n",
    "                # The Variant! Why would this be useful?\n",
    "                z1 = z0-alpha*G_E_0/np.linalg.norm(G_E_0)\n",
    "            ab_output[k+1,:]=z1\n",
    "            z0 = z1\n",
    "            plt.scatter(z1[0], z1[1], s=300, marker='.', c='k')\n",
    "        plt.plot(ab_output[:,0],ab_output[:,1],'k-')\n",
    "        my_grad = G(ab_output[-1,0],ab_output[-1,1])\n",
    "        my_title = r'$\\alpha=$ %.6f, $E(a,b)=$ %.4f, $\\nabla E(a,b)=$ [%.4f, %.4f]' %  (alpha, E(ab_output[-1,0],ab_output[-1,1]), my_grad[0], my_grad[1])\n",
    "        plt.title(my_title)\n",
    "        print('GD found:',ab_output[-1,0],ab_output[-1,1])\n",
    "        \n",
    "    # Plotting the original data and the \"transformed\" solution\n",
    "    # Using the same notation from classnotes:\n",
    "    A = np.ones((m,2))\n",
    "    A[:,1]=ti\n",
    "    K_c2 =np.linalg.lstsq(A,np.log(yi), rcond=None)[0]\n",
    "    c1_ls = np.exp(K_c2[0])\n",
    "    c2_ls = K_c2[1]\n",
    "    print('Transformed Linear LS solution:',c1_ls, c2_ls)\n",
    "    plt.plot(c1_ls,c2_ls,'ms',markersize=20, label='Transformed Linear LS')\n",
    "    print('Original data:',a,b)\n",
    "    plt.plot(a,b,'bd',markersize=20, label='Original data')\n",
    "        \n",
    "    plt.legend(loc='lower right')\n",
    "    plt.show()\n",
    "\n",
    "radio_button_TheVariant=RadioButtons(\n",
    "    options=[('Traditional GD',False),('The Variant GD',True)],\n",
    "    value=False,\n",
    "    description='GD type:',\n",
    "    disabled=False\n",
    ")\n",
    "    \n",
    "interact(GD_2D_nonlinear, a0=(-2,2,0.01), b0=(-2,2,0.01), alpha=(0,1,0.0001), n=(0,1000,1), m=(10,100,10), TheVariantFlag=radio_button_TheVariant)"
   ]
  },
  {
   "cell_type": "markdown",
   "id": "332d7bdc",
   "metadata": {},
   "source": []
  },
  {
   "cell_type": "markdown",
   "id": "77a30556",
   "metadata": {},
   "source": [
    "# Mejoras\n",
    "\n",
    "- SGD\n",
    "- SDGD"
   ]
  },
  {
   "cell_type": "markdown",
   "id": "8a9a9a67",
   "metadata": {},
   "source": []
  }
 ],
 "metadata": {
  "kernelspec": {
   "display_name": "base",
   "language": "python",
   "name": "python3"
  },
  "language_info": {
   "codemirror_mode": {
    "name": "ipython",
    "version": 3
   },
   "file_extension": ".py",
   "mimetype": "text/x-python",
   "name": "python",
   "nbconvert_exporter": "python",
   "pygments_lexer": "ipython3",
   "version": "3.12.3"
  }
 },
 "nbformat": 4,
 "nbformat_minor": 5
}
