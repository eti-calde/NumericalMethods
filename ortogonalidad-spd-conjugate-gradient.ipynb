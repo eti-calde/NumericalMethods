{
 "cells": [
  {
   "cell_type": "code",
   "execution_count": 13,
   "id": "39881435",
   "metadata": {},
   "outputs": [],
   "source": [
    "import numpy as np\n",
    "from scipy.sparse.linalg import cg\n",
    "\n",
    "def conjugate_gradient(A, b, x0, tol=1e-6, max_iter=1000):\n",
    "    \"\"\"\n",
    "    Solves Ax = b using the Conjugate Gradient method.\n",
    "\n",
    "    Args:\n",
    "        A (np.ndarray): The symmetric, positive-definite matrix.\n",
    "        b (np.ndarray): The right-hand side vector.\n",
    "        x0 (np.ndarray): The initial guess for the solution.\n",
    "        tol (float): The tolerance for convergence.\n",
    "        max_iter (int): The maximum number of iterations.\n",
    "\n",
    "    Returns:\n",
    "        np.ndarray: The approximate solution x.\n",
    "    \"\"\"\n",
    "    x = x0.copy()\n",
    "    r = b - A @ x  # Initial residual\n",
    "    p = r.copy()    # Initial search direction\n",
    "    residuals = [r.copy()]\n",
    "    directions = [p.copy()]\n",
    "    rs_old = np.dot(r, r)\n",
    "\n",
    "    for i in range(max_iter):\n",
    "        Ap = A @ p\n",
    "        alpha = rs_old / np.dot(p, Ap)\n",
    "        x = x + alpha * p\n",
    "        r = r - alpha * Ap\n",
    "        rs_new = np.dot(r, r)\n",
    "        if np.sqrt(rs_new) < tol:\n",
    "            print(f\"Converged in {i+1} iterations.\")\n",
    "            # break\n",
    "\n",
    "        beta = rs_new / rs_old\n",
    "        p = r + beta * p\n",
    "        residuals.append(r)\n",
    "        directions.append(p)\n",
    "        rs_old = rs_new\n",
    "    else:\n",
    "        print(f\"Did not converge within {max_iter} iterations.\")\n",
    "\n",
    "    return x, directions, np.vstack(residuals)"
   ]
  },
  {
   "cell_type": "code",
   "execution_count": 14,
   "id": "8c851f4d",
   "metadata": {},
   "outputs": [],
   "source": [
    "def spd_from_gram(n, eps=1e-6, rng=None):\n",
    "    rng = np.random.default_rng(rng)\n",
    "    B = rng.normal(size=(n, n))\n",
    "    A = B.T @ B\n",
    "    A += eps * np.eye(n)       \n",
    "    return B,A # Matriz no SPD, Matriz SPD\n"
   ]
  },
  {
   "cell_type": "code",
   "execution_count": 15,
   "id": "dfa91860",
   "metadata": {},
   "outputs": [
    {
     "name": "stdout",
     "output_type": "stream",
     "text": [
      "Converged in 3 iterations.\n",
      "Converged in 4 iterations.\n",
      "Converged in 5 iterations.\n",
      "Converged in 6 iterations.\n",
      "Converged in 7 iterations.\n",
      "Converged in 8 iterations.\n",
      "Converged in 9 iterations.\n",
      "Converged in 10 iterations.\n",
      "Converged in 11 iterations.\n",
      "Converged in 12 iterations.\n",
      "Converged in 13 iterations.\n",
      "Converged in 14 iterations.\n",
      "Converged in 15 iterations.\n",
      "Converged in 16 iterations.\n",
      "Converged in 17 iterations.\n",
      "Converged in 18 iterations.\n",
      "Converged in 19 iterations.\n",
      "Converged in 20 iterations.\n",
      "Converged in 21 iterations.\n",
      "Converged in 22 iterations.\n",
      "Converged in 23 iterations.\n",
      "Converged in 24 iterations.\n",
      "Converged in 25 iterations.\n",
      "Converged in 26 iterations.\n",
      "Converged in 27 iterations.\n",
      "Converged in 28 iterations.\n",
      "Converged in 29 iterations.\n",
      "Converged in 30 iterations.\n",
      "Converged in 31 iterations.\n",
      "Converged in 32 iterations.\n",
      "Converged in 33 iterations.\n",
      "Did not converge within 1000 iterations.\n"
     ]
    },
    {
     "name": "stderr",
     "output_type": "stream",
     "text": [
      "/tmp/ipykernel_213727/925798409.py:27: RuntimeWarning: invalid value encountered in scalar divide\n",
      "  alpha = rs_old / np.dot(p, Ap)\n"
     ]
    }
   ],
   "source": [
    "n = 3\n",
    "A_tilde, A = spd_from_gram(3)\n",
    "b = np.array([-1, -0.5, -1 ])\n",
    "x, d, r = conjugate_gradient(A, b, [0,0,0])"
   ]
  },
  {
   "cell_type": "code",
   "execution_count": 22,
   "id": "51b7fa17",
   "metadata": {},
   "outputs": [
    {
     "data": {
      "text/plain": [
       "array([[-1.        , -0.5       , -1.        ],\n",
       "       [ 0.28967523,  0.49599013, -0.5376703 ],\n",
       "       [-0.22242819,  0.24061047,  0.10212295],\n",
       "       ...,\n",
       "       [        nan,         nan,         nan],\n",
       "       [        nan,         nan,         nan],\n",
       "       [        nan,         nan,         nan]])"
      ]
     },
     "execution_count": 22,
     "metadata": {},
     "output_type": "execute_result"
    }
   ],
   "source": [
    "r"
   ]
  },
  {
   "cell_type": "code",
   "execution_count": 38,
   "id": "ca396e8d",
   "metadata": {},
   "outputs": [
    {
     "data": {
      "text/plain": [
       "[<matplotlib.lines.Line2D at 0x7992d358c520>]"
      ]
     },
     "execution_count": 38,
     "metadata": {},
     "output_type": "execute_result"
    },
    {
     "data": {
      "image/png": "[encoded data removed]",
      "text/plain": [
       "<Figure size 640x480 with 1 Axes>"
      ]
     },
     "metadata": {},
     "output_type": "display_data"
    }
   ],
   "source": [
    "import matplotlib.pyplot as plt\n",
    "normas = np.linalg.norm(r, axis=1)\n",
    "plt.semilogy(normas[:10], \".\")\n"
   ]
  },
  {
   "cell_type": "code",
   "execution_count": 7,
   "id": "60ccd93e",
   "metadata": {},
   "outputs": [
    {
     "data": {
      "text/plain": [
       "array([-4.44089210e-16, -1.88737914e-15,  0.00000000e+00])"
      ]
     },
     "execution_count": 7,
     "metadata": {},
     "output_type": "execute_result"
    }
   ],
   "source": [
    "A@x - b"
   ]
  },
  {
   "cell_type": "code",
   "execution_count": 8,
   "id": "db9d063b",
   "metadata": {},
   "outputs": [
    {
     "data": {
      "text/plain": [
       "array([[ 2.25000000e+00,  1.11022302e-16, -1.11022302e-16],\n",
       "       [ 1.11022302e-16,  1.93151121e+00, -2.26795076e-16],\n",
       "       [-1.11022302e-16, -2.26795076e-16,  7.89180429e-01]])"
      ]
     },
     "execution_count": 8,
     "metadata": {},
     "output_type": "execute_result"
    }
   ],
   "source": [
    "r@r.T"
   ]
  },
  {
   "cell_type": "code",
   "execution_count": 9,
   "id": "8c3bed66",
   "metadata": {},
   "outputs": [
    {
     "data": {
      "text/plain": [
       "3.900971925294076e-16"
      ]
     },
     "execution_count": 9,
     "metadata": {},
     "output_type": "execute_result"
    }
   ],
   "source": [
    "np.linalg.norm(r @ r.T - np.diag(np.diag(r @ r.T))) "
   ]
  },
  {
   "cell_type": "code",
   "execution_count": 10,
   "id": "bff7b651",
   "metadata": {},
   "outputs": [
    {
     "name": "stdout",
     "output_type": "stream",
     "text": [
      "Did not converge within 1000 iterations.\n"
     ]
    },
    {
     "data": {
      "text/plain": [
       "array([ -14.06065811, -181.91714867,   13.6788491 ])"
      ]
     },
     "execution_count": 10,
     "metadata": {},
     "output_type": "execute_result"
    }
   ],
   "source": [
    "x, d, r = conjugate_gradient(A_tilde, b, [0,0,0]) # No da output ya que no converge luego de max_iters\n",
    "A @ cg(A_tilde, b, [0,0,0])[0] - b # función de scipy retorna una mal solución."
   ]
  },
  {
   "cell_type": "code",
   "execution_count": 11,
   "id": "d2375c76",
   "metadata": {},
   "outputs": [
    {
     "name": "stdout",
     "output_type": "stream",
     "text": [
      "Did not converge within 1000 iterations.\n"
     ]
    },
    {
     "data": {
      "text/plain": [
       "array([-1.36762422e+15, -1.69892050e+15, -1.85343139e+15])"
      ]
     },
     "execution_count": 11,
     "metadata": {},
     "output_type": "execute_result"
    }
   ],
   "source": [
    "# La idea es correr el algoritmo fuera de la función, permitiendo almacenar los residuos y direcciones.\n",
    "A = A_tilde; b = b; x0 = [0,0,0]; max_iter = 1000; tol=1e-6\n",
    "\n",
    "x = x0.copy()\n",
    "r = b - A @ x  # Initial residual\n",
    "p = r.copy()    # Initial search direction\n",
    "residuals = [r.copy()]\n",
    "directions = [p.copy()]\n",
    "rs_old = np.dot(r, r)\n",
    "\n",
    "for i in range(max_iter):\n",
    "    Ap = A @ p\n",
    "    alpha = rs_old / np.dot(p, Ap)\n",
    "    x = x + alpha * p\n",
    "    r = r - alpha * Ap\n",
    "    rs_new = np.dot(r, r)\n",
    "    if np.sqrt(rs_new) < tol:\n",
    "        print(f\"Converged in {i+1} iterations.\")\n",
    "        # break\n",
    "\n",
    "    beta = rs_new / rs_old\n",
    "    p = r + beta * p\n",
    "    residuals.append(r)\n",
    "    directions.append(p)\n",
    "    rs_old = rs_new\n",
    "else:\n",
    "    print(f\"Did not converge within {max_iter} iterations.\")\n",
    "\n",
    "A@x - b"
   ]
  },
  {
   "cell_type": "code",
   "execution_count": 35,
   "id": "4ea123e7",
   "metadata": {},
   "outputs": [
    {
     "ename": "NameError",
     "evalue": "name 'normas__nospd' is not defined",
     "output_type": "error",
     "traceback": [
      "\u001b[0;31m---------------------------------------------------------------------------\u001b[0m",
      "\u001b[0;31mNameError\u001b[0m                                 Traceback (most recent call last)",
      "Cell \u001b[0;32mIn[35], line 2\u001b[0m\n\u001b[1;32m      1\u001b[0m normas_no_spd \u001b[38;5;241m=\u001b[39m np\u001b[38;5;241m.\u001b[39mlinalg\u001b[38;5;241m.\u001b[39mnorm(residuals, axis\u001b[38;5;241m=\u001b[39m\u001b[38;5;241m1\u001b[39m)\n\u001b[0;32m----> 2\u001b[0m plt\u001b[38;5;241m.\u001b[39mscatter(y\u001b[38;5;241m=\u001b[39mnormas_no_spd, x\u001b[38;5;241m=\u001b[39mnp\u001b[38;5;241m.\u001b[39marange(\u001b[38;5;28mlen\u001b[39m(\u001b[43mnormas__nospd\u001b[49m)))\n",
      "\u001b[0;31mNameError\u001b[0m: name 'normas__nospd' is not defined"
     ]
    }
   ],
   "source": [
    "normas_no_spd = np.linalg.norm(residuals, axis=1)\n",
    "plt.scatter(y=normas_no_spd, x=np.arange(len(normas__nospd)))"
   ]
  },
  {
   "cell_type": "code",
   "execution_count": 121,
   "id": "1d8a3d27",
   "metadata": {},
   "outputs": [],
   "source": [
    "o = np.vstack(residuals) @ np.vstack(residuals).T"
   ]
  },
  {
   "cell_type": "code",
   "execution_count": 122,
   "id": "f25dbcc2",
   "metadata": {},
   "outputs": [
    {
     "data": {
      "text/plain": [
       "array([[ 0.00000000e+00, -1.11022302e-16,  8.83738020e+00, ...,\n",
       "         2.24918939e+13,  2.25995284e+13,  2.27075686e+13],\n",
       "       [-1.11022302e-16,  0.00000000e+00, -2.52781610e+00, ...,\n",
       "        -8.50182150e+12, -8.54250680e+12, -8.58334542e+12],\n",
       "       [ 8.83738020e+00, -2.52781610e+00,  0.00000000e+00, ...,\n",
       "         2.58950230e+15,  2.60189431e+15,  2.61433302e+15],\n",
       "       ...,\n",
       "       [ 2.24918939e+13, -8.50182150e+12,  2.58950230e+15, ...,\n",
       "         0.00000000e+00,  6.62734120e+27,  6.65902411e+27],\n",
       "       [ 2.25995284e+13, -8.54250680e+12,  2.60189431e+15, ...,\n",
       "         6.62734120e+27,  0.00000000e+00,  6.69089074e+27],\n",
       "       [ 2.27075686e+13, -8.58334542e+12,  2.61433302e+15, ...,\n",
       "         6.65902411e+27,  6.69089074e+27,  0.00000000e+00]])"
      ]
     },
     "execution_count": 122,
     "metadata": {},
     "output_type": "execute_result"
    }
   ],
   "source": [
    "o - np.diag(np.diag(o))"
   ]
  },
  {
   "cell_type": "code",
   "execution_count": 124,
   "id": "5255a8da",
   "metadata": {},
   "outputs": [
    {
     "data": {
      "text/plain": [
       "6.399433456017062e+29"
      ]
     },
     "execution_count": 124,
     "metadata": {},
     "output_type": "execute_result"
    }
   ],
   "source": [
    "np.linalg.norm(o - np.diag(np.diag(o)))"
   ]
  }
 ],
 "metadata": {
  "kernelspec": {
   "display_name": "Python 3",
   "language": "python",
   "name": "python3"
  },
  "language_info": {
   "codemirror_mode": {
    "name": "ipython",
    "version": 3
   },
   "file_extension": ".py",
   "mimetype": "text/x-python",
   "name": "python",
   "nbconvert_exporter": "python",
   "pygments_lexer": "ipython3",
   "version": "3.10.18"
  }
 },
 "nbformat": 4,
 "nbformat_minor": 5
}
